{
 "cells": [
  {
   "cell_type": "markdown",
   "id": "f22745ce",
   "metadata": {},
   "source": [
    "  # Applied Machine Learning (March, 2024)\n",
    "   ## Natei Ermias Benti (Addis Ababa University, Computational Data Science Program)\n",
    "   natei.ermias@aau.edu.et"
   ]
  },
  {
   "cell_type": "markdown",
   "id": "fc3345a9",
   "metadata": {},
   "source": [
    "# Data Preprocessing and Feature Engineering\n"
   ]
  },
  {
   "cell_type": "markdown",
   "id": "72ccb7a3",
   "metadata": {},
   "source": [
    "* **Data Preprocessing** and **Feature Engineering** are two essential steps in the machine learning workflow. \n",
    "* **Data Preprocessing** refers to the data preparation process that involves __cleaning, transforming, and organizing__ the data before it is used in a machine learning model. \n",
    "* **Feature Engineering**, on the other hand, is the process of selecting or creating new features (also known as variables or attributes) from the existing dataset, that can help improve the accuracy and performance of a machine learning model.\n",
    "\n",
    "* __For example__,  in healthcare, these techniques are crucial for building accurate and effective predictive models, disease diagnosis, and patient management. Healthcare data is often noisy, missing, and unstructured, and requires extensive preprocessing to prepare it for analysis. Feature engineering helps to identify the most relevant variables in the dataset that can influence the outcome, and also helps to reduce the dimensionality of the dataset, making it easier to analyze."
   ]
  },
  {
   "cell_type": "markdown",
   "id": "92909408",
   "metadata": {},
   "source": [
    "## Importance of Data Preprocessing\n",
    "* Data preprocessing is essential because real-world data is often __messy, incomplete, or inconsistent__. \n",
    "* The data may contain __missing values, outliers, or errors__, which can lead to __inaccurate or biased results__. \n",
    "* Data preprocessing helps to mitigate these issues by transforming raw data into a __clean, consistent, and well-organized format__.\n",
    "\n",
    "In addition to improving the accuracy and reliability of analysis, data preprocessing can also __save time and resources__. Preprocessing can help to __identify and correct errors early__ on in the data science pipeline, __reducing the need for costly rework later on__.\n",
    "## 1. Data Cleaning\n",
    "Data cleaning is the process of identifying and correcting errors in the data. Data cleaning can include tasks such as \n",
    "* removing duplicates, \n",
    "* correcting typos or spelling errors, and \n",
    "* fixing inconsistencies in the data. Let's take a look at some common data cleaning techniques in Python.\n",
    "\n",
    "#### 1.1. Removing Duplicates\n",
    "\n",
    "Removing duplicates is a simple but important step in data cleaning. Duplicate records can skew analysis results and lead to inaccurate conclusions. To remove duplicates in Python, we can use the Pandas library. Let's take a look at an example.\n",
    "\n"
   ]
  },
  {
   "cell_type": "code",
   "execution_count": 29,
   "id": "30877115",
   "metadata": {},
   "outputs": [
    {
     "name": "stdout",
     "output_type": "stream",
     "text": [
      "   name  age\n",
      "0  John   25\n",
      "1  Jane   30\n",
      "2  Mary   27\n",
      "3  John   25\n"
     ]
    }
   ],
   "source": [
    "import pandas as pd\n",
    "\n",
    "# Create a sample DataFrame with duplicate values\n",
    "data = {'name': ['John', 'Jane', 'Mary', 'John'],\n",
    "        'age': [25, 30, 27, 25]}\n",
    "df = pd.DataFrame(data)\n",
    "\n",
    "# Print the original DataFrame\n",
    "print(df)"
   ]
  },
  {
   "cell_type": "code",
   "execution_count": 2,
   "id": "daf15afd",
   "metadata": {},
   "outputs": [
    {
     "name": "stdout",
     "output_type": "stream",
     "text": [
      "   name  age\n",
      "0  John   25\n",
      "1  Jane   30\n",
      "2  Mary   27\n"
     ]
    }
   ],
   "source": [
    "# Drop duplicates\n",
    "df.drop_duplicates(inplace=True)\n",
    "\n",
    "# Print the cleaned DataFrame\n",
    "print(df) "
   ]
  },
  {
   "cell_type": "markdown",
   "id": "77dddb06",
   "metadata": {},
   "source": [
    "In this example, we create a DataFrame with duplicate values in the \"name\" column. We then use the drop_duplicates method to remove the duplicates. The inplace=True parameter modifies the DataFrame in place, rather than creating a new copy."
   ]
  },
  {
   "cell_type": "markdown",
   "id": "b99ee98c",
   "metadata": {},
   "source": [
    "### 1.2. Handling Missing Values\n",
    "\n",
    "Missing values are a common issue in real-world data. Missing values can occur for many reasons, such as data entry errors, equipment malfunctions, or survey non-response. Missing values can lead to biased or incomplete analysis results, so it's important to handle them appropriately. Let's take a look at some common techniques for handling missing values in Python.\n",
    "\n",
    "#### 1.2.1. Dropping Rows or Columns\n",
    "\n",
    "One approach to handling missing values is to simply drop rows or columns that contain missing values. This approach can be effective if the missing values are limited to a small number of rows or columns, or if the missing values are randomly distributed. To drop rows or columns in Python, we can use the dropna method in Pandas. Let's take a look at an example.\n"
   ]
  },
  {
   "cell_type": "code",
   "execution_count": 4,
   "id": "642ae8be",
   "metadata": {},
   "outputs": [
    {
     "name": "stdout",
     "output_type": "stream",
     "text": [
      "   name   age gender\n",
      "0  John  25.0      M\n",
      "1  Jane   NaN      F\n",
      "2  Mary  27.0    NaN\n",
      "3   Tom  30.0      M\n"
     ]
    }
   ],
   "source": [
    "import pandas as pd\n",
    "import numpy as np\n",
    "\n",
    "# Create a sample DataFrame with missing values\n",
    "data = {'name': ['John', 'Jane', 'Mary', 'Tom'],\n",
    "        'age': [25, np.nan, 27, 30],\n",
    "        'gender': ['M', 'F', np.nan, 'M']}\n",
    "df = pd.DataFrame(data)\n",
    "\n",
    "# Print the original DataFrame\n",
    "print(df)"
   ]
  },
  {
   "cell_type": "code",
   "execution_count": 5,
   "id": "31150b21",
   "metadata": {},
   "outputs": [
    {
     "name": "stdout",
     "output_type": "stream",
     "text": [
      "   name   age gender\n",
      "0  John  25.0      M\n",
      "3   Tom  30.0      M\n"
     ]
    }
   ],
   "source": [
    "# Drop rows with missing values\n",
    "df.dropna(inplace=True)\n",
    "\n",
    "# Print the cleaned DataFrame\n",
    "print(df) "
   ]
  },
  {
   "cell_type": "markdown",
   "id": "4ccd00fc",
   "metadata": {},
   "source": [
    "In this example, we create a DataFrame with missing values in the \"age\" and \"gender\" columns. We then use the dropna method to drop rows with missing values. The inplace=True parameter modifies the DataFrame in place, rather than creating a new copy."
   ]
  },
  {
   "cell_type": "markdown",
   "id": "37bca004",
   "metadata": {},
   "source": [
    "#### 1.2.2. Imputing Missing Values\n",
    "\n",
    "* __Imputation__ is a technique used to handle missing values in a dataset. Missing data can occur due to a variety of reasons, such as __data corruption__, __sensor failure__, or __human error__. \n",
    "* Imputation involves filling in the missing values with estimated values based on the available data.\n",
    "\n",
    "__There are different approaches to imputation, including:__\n",
    "\n",
    "* __*Mean/median imputation*__: In this approach, the missing values are replaced with the mean or median value of the available data for that feature. This is a simple and fast technique, but it may not capture the complexity of the data.\n",
    "\n",
    "* __*Mode imputation*__: This technique is used for categorical data, where the missing values are replaced with the most frequent value of the available data for that feature.\n",
    "\n",
    "* __*Hot-deck imputation*__: This approach involves finding the nearest available data point to the missing value and using its value to impute the missing data. This method requires more computational power and may not work well if the missing data is randomly distributed.\n",
    "\n",
    "* __*Multiple imputation*__: This technique involves creating multiple imputations of the missing data and using the average of the imputed values to replace the missing values. Multiple imputation takes into account the uncertainty in the imputation process and can lead to more accurate results.\n",
    "\n",
    "*Imputation is an important step in data preprocessing and can have a significant impact on the performance of a machine learning model. However, it is important to be aware of the limitations of imputation and to carefully evaluate the imputed data before using it for model training.*"
   ]
  },
  {
   "cell_type": "code",
   "execution_count": 6,
   "id": "e4b55f27",
   "metadata": {},
   "outputs": [
    {
     "data": {
      "text/html": [
       "<div>\n",
       "<style scoped>\n",
       "    .dataframe tbody tr th:only-of-type {\n",
       "        vertical-align: middle;\n",
       "    }\n",
       "\n",
       "    .dataframe tbody tr th {\n",
       "        vertical-align: top;\n",
       "    }\n",
       "\n",
       "    .dataframe thead th {\n",
       "        text-align: right;\n",
       "    }\n",
       "</style>\n",
       "<table border=\"1\" class=\"dataframe\">\n",
       "  <thead>\n",
       "    <tr style=\"text-align: right;\">\n",
       "      <th></th>\n",
       "      <th>A</th>\n",
       "      <th>B</th>\n",
       "    </tr>\n",
       "  </thead>\n",
       "  <tbody>\n",
       "    <tr>\n",
       "      <th>0</th>\n",
       "      <td>1.0</td>\n",
       "      <td>6.0</td>\n",
       "    </tr>\n",
       "    <tr>\n",
       "      <th>1</th>\n",
       "      <td>2.0</td>\n",
       "      <td>NaN</td>\n",
       "    </tr>\n",
       "    <tr>\n",
       "      <th>2</th>\n",
       "      <td>3.0</td>\n",
       "      <td>8.0</td>\n",
       "    </tr>\n",
       "    <tr>\n",
       "      <th>3</th>\n",
       "      <td>NaN</td>\n",
       "      <td>9.0</td>\n",
       "    </tr>\n",
       "    <tr>\n",
       "      <th>4</th>\n",
       "      <td>5.0</td>\n",
       "      <td>10.0</td>\n",
       "    </tr>\n",
       "  </tbody>\n",
       "</table>\n",
       "</div>"
      ],
      "text/plain": [
       "     A     B\n",
       "0  1.0   6.0\n",
       "1  2.0   NaN\n",
       "2  3.0   8.0\n",
       "3  NaN   9.0\n",
       "4  5.0  10.0"
      ]
     },
     "execution_count": 6,
     "metadata": {},
     "output_type": "execute_result"
    }
   ],
   "source": [
    "import pandas as pd\n",
    "from sklearn.impute as SimpleImputer\n",
    "import numpy as np\n",
    "# Create a sample dataframe\n",
    "df = pd.DataFrame({'A': [1, 2, 3, np.nan, 5],\n",
    "                   'B': [6, np.nan, 8, 9, 10]})\n",
    "df"
   ]
  },
  {
   "cell_type": "code",
   "execution_count": 32,
   "id": "509f35d8",
   "metadata": {},
   "outputs": [
    {
     "data": {
      "text/html": [
       "<div>\n",
       "<style scoped>\n",
       "    .dataframe tbody tr th:only-of-type {\n",
       "        vertical-align: middle;\n",
       "    }\n",
       "\n",
       "    .dataframe tbody tr th {\n",
       "        vertical-align: top;\n",
       "    }\n",
       "\n",
       "    .dataframe thead th {\n",
       "        text-align: right;\n",
       "    }\n",
       "</style>\n",
       "<table border=\"1\" class=\"dataframe\">\n",
       "  <thead>\n",
       "    <tr style=\"text-align: right;\">\n",
       "      <th></th>\n",
       "      <th>A</th>\n",
       "      <th>B</th>\n",
       "    </tr>\n",
       "  </thead>\n",
       "  <tbody>\n",
       "    <tr>\n",
       "      <th>0</th>\n",
       "      <td>1.00</td>\n",
       "      <td>6.00</td>\n",
       "    </tr>\n",
       "    <tr>\n",
       "      <th>1</th>\n",
       "      <td>2.00</td>\n",
       "      <td>8.25</td>\n",
       "    </tr>\n",
       "    <tr>\n",
       "      <th>2</th>\n",
       "      <td>3.00</td>\n",
       "      <td>8.00</td>\n",
       "    </tr>\n",
       "    <tr>\n",
       "      <th>3</th>\n",
       "      <td>2.75</td>\n",
       "      <td>9.00</td>\n",
       "    </tr>\n",
       "    <tr>\n",
       "      <th>4</th>\n",
       "      <td>5.00</td>\n",
       "      <td>10.00</td>\n",
       "    </tr>\n",
       "  </tbody>\n",
       "</table>\n",
       "</div>"
      ],
      "text/plain": [
       "      A      B\n",
       "0  1.00   6.00\n",
       "1  2.00   8.25\n",
       "2  3.00   8.00\n",
       "3  2.75   9.00\n",
       "4  5.00  10.00"
      ]
     },
     "execution_count": 32,
     "metadata": {},
     "output_type": "execute_result"
    }
   ],
   "source": [
    "# Mean imputation: Replace missing values with the mean of the available values in the same column.\n",
    "import pandas as pd\n",
    "from sklearn.impute import SimpleImputer\n",
    "import numpy as np\n",
    "# Create a sample dataframe\n",
    "df_mn = pd.DataFrame({'A': [1, 2, 3, np.nan, 5],\n",
    "                   'B': [6, np.nan, 8, 9, 10]})\n",
    "\n",
    "# Impute missing values with mean\n",
    "imputer = SimpleImputer(strategy='mean')\n",
    "df_mn[['A', 'B']] = imputer.fit_transform(df_mn[['A', 'B']])\n",
    "df_mn"
   ]
  },
  {
   "cell_type": "code",
   "execution_count": 8,
   "id": "60e1f61a",
   "metadata": {},
   "outputs": [
    {
     "data": {
      "text/html": [
       "<div>\n",
       "<style scoped>\n",
       "    .dataframe tbody tr th:only-of-type {\n",
       "        vertical-align: middle;\n",
       "    }\n",
       "\n",
       "    .dataframe tbody tr th {\n",
       "        vertical-align: top;\n",
       "    }\n",
       "\n",
       "    .dataframe thead th {\n",
       "        text-align: right;\n",
       "    }\n",
       "</style>\n",
       "<table border=\"1\" class=\"dataframe\">\n",
       "  <thead>\n",
       "    <tr style=\"text-align: right;\">\n",
       "      <th></th>\n",
       "      <th>A</th>\n",
       "      <th>B</th>\n",
       "    </tr>\n",
       "  </thead>\n",
       "  <tbody>\n",
       "    <tr>\n",
       "      <th>0</th>\n",
       "      <td>1.0</td>\n",
       "      <td>6.0</td>\n",
       "    </tr>\n",
       "    <tr>\n",
       "      <th>1</th>\n",
       "      <td>2.0</td>\n",
       "      <td>8.5</td>\n",
       "    </tr>\n",
       "    <tr>\n",
       "      <th>2</th>\n",
       "      <td>3.0</td>\n",
       "      <td>8.0</td>\n",
       "    </tr>\n",
       "    <tr>\n",
       "      <th>3</th>\n",
       "      <td>2.5</td>\n",
       "      <td>9.0</td>\n",
       "    </tr>\n",
       "    <tr>\n",
       "      <th>4</th>\n",
       "      <td>5.0</td>\n",
       "      <td>10.0</td>\n",
       "    </tr>\n",
       "  </tbody>\n",
       "</table>\n",
       "</div>"
      ],
      "text/plain": [
       "     A     B\n",
       "0  1.0   6.0\n",
       "1  2.0   8.5\n",
       "2  3.0   8.0\n",
       "3  2.5   9.0\n",
       "4  5.0  10.0"
      ]
     },
     "execution_count": 8,
     "metadata": {},
     "output_type": "execute_result"
    }
   ],
   "source": [
    "#Median imputation: Replace missing values with the median of the available values in the same column.\n",
    "import pandas as pd\n",
    "from sklearn.impute import SimpleImputer\n",
    "\n",
    "# Create a sample dataframe\n",
    "df_md = pd.DataFrame({'A': [1, 2, 3, np.nan, 5],\n",
    "                   'B': [6, np.nan, 8, 9, 10]})\n",
    "\n",
    "# Impute missing values with median\n",
    "imputer = SimpleImputer(strategy='median')\n",
    "df_md[['A', 'B']] = imputer.fit_transform(df[['A', 'B']])\n",
    "df_md"
   ]
  },
  {
   "cell_type": "code",
   "execution_count": 9,
   "id": "271038cd",
   "metadata": {},
   "outputs": [
    {
     "data": {
      "text/html": [
       "<div>\n",
       "<style scoped>\n",
       "    .dataframe tbody tr th:only-of-type {\n",
       "        vertical-align: middle;\n",
       "    }\n",
       "\n",
       "    .dataframe tbody tr th {\n",
       "        vertical-align: top;\n",
       "    }\n",
       "\n",
       "    .dataframe thead th {\n",
       "        text-align: right;\n",
       "    }\n",
       "</style>\n",
       "<table border=\"1\" class=\"dataframe\">\n",
       "  <thead>\n",
       "    <tr style=\"text-align: right;\">\n",
       "      <th></th>\n",
       "      <th>A</th>\n",
       "      <th>B</th>\n",
       "    </tr>\n",
       "  </thead>\n",
       "  <tbody>\n",
       "    <tr>\n",
       "      <th>0</th>\n",
       "      <td>1.0</td>\n",
       "      <td>6.0</td>\n",
       "    </tr>\n",
       "    <tr>\n",
       "      <th>1</th>\n",
       "      <td>2.0</td>\n",
       "      <td>6.0</td>\n",
       "    </tr>\n",
       "    <tr>\n",
       "      <th>2</th>\n",
       "      <td>3.0</td>\n",
       "      <td>8.0</td>\n",
       "    </tr>\n",
       "    <tr>\n",
       "      <th>3</th>\n",
       "      <td>1.0</td>\n",
       "      <td>9.0</td>\n",
       "    </tr>\n",
       "    <tr>\n",
       "      <th>4</th>\n",
       "      <td>5.0</td>\n",
       "      <td>10.0</td>\n",
       "    </tr>\n",
       "  </tbody>\n",
       "</table>\n",
       "</div>"
      ],
      "text/plain": [
       "     A     B\n",
       "0  1.0   6.0\n",
       "1  2.0   6.0\n",
       "2  3.0   8.0\n",
       "3  1.0   9.0\n",
       "4  5.0  10.0"
      ]
     },
     "execution_count": 9,
     "metadata": {},
     "output_type": "execute_result"
    }
   ],
   "source": [
    "#Mode imputation: Replace missing values with the mode of the available values in the same column.\n",
    "import pandas as pd\n",
    "from sklearn.impute import SimpleImputer\n",
    "\n",
    "# Create a sample dataframe\n",
    "df_mo = pd.DataFrame({'A': ['a', 'b', 'c', np.nan, 'd'],\n",
    "                   'B': ['a', np.nan, 'b', 'a', 'c']})\n",
    "\n",
    "# Impute missing values with mode\n",
    "imputer = SimpleImputer(strategy='most_frequent')\n",
    "df_mo[['A', 'B']] = imputer.fit_transform(df[['A', 'B']])\n",
    "df_mo"
   ]
  },
  {
   "cell_type": "code",
   "execution_count": 10,
   "id": "50486458",
   "metadata": {
    "scrolled": false
   },
   "outputs": [
    {
     "data": {
      "text/html": [
       "<div>\n",
       "<style scoped>\n",
       "    .dataframe tbody tr th:only-of-type {\n",
       "        vertical-align: middle;\n",
       "    }\n",
       "\n",
       "    .dataframe tbody tr th {\n",
       "        vertical-align: top;\n",
       "    }\n",
       "\n",
       "    .dataframe thead th {\n",
       "        text-align: right;\n",
       "    }\n",
       "</style>\n",
       "<table border=\"1\" class=\"dataframe\">\n",
       "  <thead>\n",
       "    <tr style=\"text-align: right;\">\n",
       "      <th></th>\n",
       "      <th>A</th>\n",
       "      <th>B</th>\n",
       "    </tr>\n",
       "  </thead>\n",
       "  <tbody>\n",
       "    <tr>\n",
       "      <th>0</th>\n",
       "      <td>1.0</td>\n",
       "      <td>6.0</td>\n",
       "    </tr>\n",
       "    <tr>\n",
       "      <th>1</th>\n",
       "      <td>2.0</td>\n",
       "      <td>7.0</td>\n",
       "    </tr>\n",
       "    <tr>\n",
       "      <th>2</th>\n",
       "      <td>3.0</td>\n",
       "      <td>8.0</td>\n",
       "    </tr>\n",
       "    <tr>\n",
       "      <th>3</th>\n",
       "      <td>4.0</td>\n",
       "      <td>9.0</td>\n",
       "    </tr>\n",
       "    <tr>\n",
       "      <th>4</th>\n",
       "      <td>5.0</td>\n",
       "      <td>10.0</td>\n",
       "    </tr>\n",
       "  </tbody>\n",
       "</table>\n",
       "</div>"
      ],
      "text/plain": [
       "     A     B\n",
       "0  1.0   6.0\n",
       "1  2.0   7.0\n",
       "2  3.0   8.0\n",
       "3  4.0   9.0\n",
       "4  5.0  10.0"
      ]
     },
     "execution_count": 10,
     "metadata": {},
     "output_type": "execute_result"
    }
   ],
   "source": [
    "#K-Nearest Neighbor (KNN) imputation: Replace missing values with the values of K nearest neighbors.\n",
    "\n",
    "import pandas as pd\n",
    "from sklearn.impute import KNNImputer\n",
    "\n",
    "# Create a sample dataframe\n",
    "df_k = pd.DataFrame({'A': [1, 2, 3, np.nan, 5],\n",
    "                   'B': [6, np.nan, 8, 9, 10]})\n",
    "\n",
    "# Impute missing values with KNN\n",
    "imputer = KNNImputer(n_neighbors=2)\n",
    "df_k[['A', 'B']] = imputer.fit_transform(df[['A', 'B']])\n",
    "df_k"
   ]
  },
  {
   "cell_type": "code",
   "execution_count": 2,
   "id": "d798c244",
   "metadata": {
    "scrolled": true
   },
   "outputs": [
    {
     "name": "stdout",
     "output_type": "stream",
     "text": [
      "Number of NA's before\n",
      " species               0\n",
      "island                0\n",
      "bill_length_mm        2\n",
      "bill_depth_mm         2\n",
      "flipper_length_mm     2\n",
      "body_mass_g           2\n",
      "sex                  11\n",
      "dtype: int64\n"
     ]
    }
   ],
   "source": [
    "# with real dataset\n",
    "import pandas as pd\n",
    "from sklearn.impute import SimpleImputer\n",
    "import seaborn as sns\n",
    "# Load the dataset\n",
    "penguins_df = sns.load_dataset('penguins')\n",
    "# Check for missing values\n",
    "print(\"Number of NA's before\\n\",penguins_df.isnull().sum())"
   ]
  },
  {
   "cell_type": "code",
   "execution_count": 3,
   "id": "aabda85a",
   "metadata": {},
   "outputs": [
    {
     "name": "stdout",
     "output_type": "stream",
     "text": [
      "Number of NA's After\n",
      " species               0\n",
      "island                0\n",
      "bill_length_mm        0\n",
      "bill_depth_mm         0\n",
      "flipper_length_mm     0\n",
      "body_mass_g           0\n",
      "sex                  11\n",
      "dtype: int64\n"
     ]
    }
   ],
   "source": [
    "# Create a SimpleImputer object to impute missing values with the mean\n",
    "imputer = SimpleImputer(strategy='median') # mean\n",
    "\n",
    "# Impute missing values in the 'age' and 'blood_pressure' columns\n",
    "penguins_df[['bill_length_mm', 'bill_depth_mm','flipper_length_mm','body_mass_g']] = imputer.fit_transform(penguins_df[['bill_length_mm', 'bill_depth_mm','flipper_length_mm','body_mass_g']])\n",
    "\n",
    "# Check for missing values after imputation\n",
    "print(\"Number of NA's After\\n\",penguins_df.isnull().sum())"
   ]
  },
  {
   "cell_type": "code",
   "execution_count": 6,
   "id": "b3a64a53",
   "metadata": {},
   "outputs": [
    {
     "name": "stdout",
     "output_type": "stream",
     "text": [
      "(344, 7)\n",
      "(344, 1)\n"
     ]
    }
   ],
   "source": [
    "print(penguins_df.shape)  # Check the shape of the DataFrame\n",
    "print(penguins_df[['sex']].shape)  # Check the shape of the 'sex' column\n"
   ]
  },
  {
   "cell_type": "markdown",
   "id": "f4ba33a3",
   "metadata": {},
   "source": [
    "'sex' column contains non-numeric values. The SimpleImputer can only handle numerical data, so if 'sex' contains categorical values, you'll need to encode them before imputation."
   ]
  },
  {
   "cell_type": "code",
   "execution_count": 8,
   "id": "eb8b38ca",
   "metadata": {
    "scrolled": true
   },
   "outputs": [
    {
     "name": "stdout",
     "output_type": "stream",
     "text": [
      "object\n"
     ]
    }
   ],
   "source": [
    "print(penguins_df['sex'].dtype)\n"
   ]
  },
  {
   "cell_type": "markdown",
   "id": "811c68f4",
   "metadata": {},
   "source": [
    "To encode categorical values before imputation, you can use __one-hot encoding or label encoding__. Here's how you can use label encoding with scikit-learn:"
   ]
  },
  {
   "cell_type": "code",
   "execution_count": 11,
   "id": "7fd9a7ee",
   "metadata": {},
   "outputs": [
    {
     "name": "stdout",
     "output_type": "stream",
     "text": [
      "Number of NA's After\n",
      " species              0\n",
      "island               0\n",
      "bill_length_mm       0\n",
      "bill_depth_mm        0\n",
      "flipper_length_mm    0\n",
      "body_mass_g          0\n",
      "sex                  0\n",
      "dtype: int64\n"
     ]
    }
   ],
   "source": [
    "from sklearn.preprocessing import LabelEncoder #If the data type is object or string, it means 'sex' contains categorical values.\n",
    "\n",
    "label_encoder = LabelEncoder()\n",
    "penguins_df['sex'] = label_encoder.fit_transform(penguins_df['sex'])\n",
    "imputer2 = SimpleImputer(strategy='most_frequent')\n",
    "penguins_df['sex'] = imputer2.fit_transform(penguins_df[['sex']])\n",
    "# Check for missing values after imputation\n",
    "print(\"Number of NA's After\\n\", penguins_df.isnull().sum())"
   ]
  },
  {
   "cell_type": "markdown",
   "id": "4a003fa7",
   "metadata": {},
   "source": [
    "### 1.3. Outlier detection\n",
    "Outlier detection is a critical task in machine learning that involves identifying observations or data points that differ significantly from the majority of the dataset. Outliers can arise due to various reasons, such as measurement errors, data corruption, or rare events. Detecting and handling outliers is crucial as they can have a significant impact on the accuracy and reliability of a machine learning model. Here are some commonly used outlier detection methods with sample code in Python (Z-score and Isolation Forest are the most popular ones):\n",
    "* Z score\n",
    "*Isolation Forest method\n",
    "*Interquartile range (IQR) method\n",
    "*Local Outlier Factor (LOF)"
   ]
  },
  {
   "cell_type": "code",
   "execution_count": 25,
   "id": "50d247b4",
   "metadata": {},
   "outputs": [
    {
     "data": {
      "text/plain": [
       "array([  1,   2,   3,   4,   5,   6,   7,   8,   9, 100])"
      ]
     },
     "execution_count": 25,
     "metadata": {},
     "output_type": "execute_result"
    }
   ],
   "source": [
    "import numpy as np\n",
    "\n",
    "# Cimport reate a sample dataset\n",
    "data = np.array([1, 2, 3, 4, 5, 6, 7, 8, 9, 100])\n",
    "data"
   ]
  },
  {
   "cell_type": "code",
   "execution_count": 26,
   "id": "8b22e864",
   "metadata": {},
   "outputs": [
    {
     "data": {
      "image/png": "[encoded data removed]",
      "text/plain": [
       "<Figure size 640x480 with 1 Axes>"
      ]
     },
     "metadata": {},
     "output_type": "display_data"
    }
   ],
   "source": [
    "# Check wether the oulier are occured or not by plotting a boxplot\n",
    "import numpy as np\n",
    "import matplotlib.pyplot as plt\n",
    "\n",
    "# Generate sample data\n",
    "data = np.array([1, 2, 3, 4, 5, 6, 7, 8, 9, 100])\n",
    "\n",
    "# Create box plot\n",
    "fig, ax = plt.subplots()\n",
    "ax.boxplot(data)\n",
    "\n",
    "# Show the plot\n",
    "plt.show()"
   ]
  },
  {
   "cell_type": "markdown",
   "id": "e48d7d1c",
   "metadata": {},
   "source": [
    "#### 1.3.1. Z-score Method\n",
    "The Z-score method is a simple and widely used statistical technique for detecting outliers. It involves standardizing the data by subtracting the mean and dividing by the standard deviation. The resulting values represent the number of standard deviations an observation is away from the mean. Observations with a Z-score greater than a specified threshold are considered outliers.\n",
    "\n",
    "Here's an example implementation of the Z-score method in Python:"
   ]
  },
  {
   "cell_type": "code",
   "execution_count": 27,
   "id": "11b7563d",
   "metadata": {},
   "outputs": [
    {
     "name": "stdout",
     "output_type": "stream",
     "text": [
      "Outliers: [100]\n"
     ]
    }
   ],
   "source": [
    "import numpy as np\n",
    "\n",
    "# Create a sample dataset\n",
    "data = np.array([1, 2, 3, 4, 5, 6, 7, 8, 9, 100])\n",
    "\n",
    "# Calculate z-scores\n",
    "mean = np.mean(data)\n",
    "std = np.std(data)\n",
    "z_scores = (data - mean) / std\n",
    "\n",
    "# Set threshold and mark outliers\n",
    "threshold = 2 #If the absolute value of the z-score for a data point is greater than 2, then it is typically considered an outlier. \n",
    "    #This threshold of 2 is somewhat arbitrary and may vary depending on the context and the specific dataset being analyzed. \n",
    "    #However, it is a common threshold that is often used as a starting point for identifying potential outliers.\n",
    "outliers = np.where(np.abs(z_scores) > threshold)[0] #The np.abs() function is used to calculate the absolute value of the \n",
    "                #z-scores, as we are interested in detecting outliers regardless of whether they are above or below the mean.\n",
    "                                # The [0] at the end of the line is used to extract the first element of the \n",
    "                                #output of np.where(), which is an array of indices of the outliers.\n",
    "print('Outliers:', data[outliers])"
   ]
  },
  {
   "cell_type": "markdown",
   "id": "4db25901",
   "metadata": {},
   "source": [
    "#### 1.3.2. Isolation Forest\n",
    "The Isolation Forest algorithm is a machine learning-based method for detecting outliers that uses decision trees. It works by isolating outliers in a tree-like structure and identifying them as points with shorter average path lengths within the tree.\n",
    "\n",
    "Here's an example implementation of the Isolation Forest algorithm in Python using the scikit-learn library:"
   ]
  },
  {
   "cell_type": "code",
   "execution_count": 28,
   "id": "34ceffea",
   "metadata": {},
   "outputs": [
    {
     "name": "stdout",
     "output_type": "stream",
     "text": [
      "Outliers: [[  9 100]]\n"
     ]
    }
   ],
   "source": [
    "import numpy as np\n",
    "from sklearn.ensemble import IsolationForest\n",
    "\n",
    "# Create a sample dataset\n",
    "data = np.array([[1, 2], [3, 4], [5, 6], [7, 8], [9, 100]])\n",
    "\n",
    "# Fit Isolation Forest model\n",
    "clf = IsolationForest(random_state=0).fit(data)\n",
    "\n",
    "# Predict outliers\n",
    "outliers = np.where(clf.predict(data) == -1)[0] #1 indicates an inlier (a normal data point), and \n",
    "                                                #-1 indicates an outlier (an anomalous data point).\n",
    "                #The np.where() function is used to identify the indices of the data points that are classified as outliers.\n",
    "        #The [0] at the end of the line of code is used to extract the indices from the tuple that is returned by np.where().\n",
    "print('Outliers:', data[outliers])\n"
   ]
  },
  {
   "cell_type": "markdown",
   "id": "a4713fad",
   "metadata": {},
   "source": [
    "#### 1.3.3. Interquartile range (IQR) method: \n",
    "Calculate the IQR of the data and mark the observations that are beyond a certain multiple of the IQR from the quartiles."
   ]
  },
  {
   "cell_type": "code",
   "execution_count": 29,
   "id": "204a5cc3",
   "metadata": {},
   "outputs": [
    {
     "name": "stdout",
     "output_type": "stream",
     "text": [
      "Outliers: [100]\n"
     ]
    }
   ],
   "source": [
    "import numpy as np\n",
    "import pandas as pd\n",
    "\n",
    "# Create a sample dataset\n",
    "data = np.array([1, 2, 3, 4, 5, 6, 7, 8, 9, 100])\n",
    "\n",
    "# Calculate IQR\n",
    "q1 = np.percentile(data, 25)\n",
    "q3 = np.percentile(data, 75)\n",
    "iqr = q3 - q1\n",
    "\n",
    "# Set threshold and mark outliers\n",
    "threshold = 1.5\n",
    "outliers = np.where((data < (q1 - threshold * iqr)) | (data > (q3 + threshold * iqr)))[0]\n",
    "print('Outliers:', data[outliers])\n"
   ]
  },
  {
   "cell_type": "markdown",
   "id": "d629a801",
   "metadata": {},
   "source": [
    "#### 1.3.4. Local Outlier Factor (LOF): \n",
    "Calculate the local density of each observation and mark the ones that have a significantly lower density than their neighbors."
   ]
  },
  {
   "cell_type": "code",
   "execution_count": 30,
   "id": "97335d84",
   "metadata": {},
   "outputs": [
    {
     "name": "stdout",
     "output_type": "stream",
     "text": [
      "Outliers: [[  9 100]]\n"
     ]
    }
   ],
   "source": [
    "import numpy as np\n",
    "from sklearn.neighbors import LocalOutlierFactor\n",
    "\n",
    "# Create a sample dataset\n",
    "data = np.array([[1, 2], [3, 4], [5, 6], [7, 8], [9, 100]])\n",
    "\n",
    "# Fit LOF model\n",
    "clf = LocalOutlierFactor(n_neighbors=2)\n",
    "y_pred = clf.fit_predict(data)\n",
    "\n",
    "# Predict outliers\n",
    "outliers = np.where(y_pred == -1)[0]\n",
    "print('Outliers:', data[outliers])\n"
   ]
  },
  {
   "cell_type": "markdown",
   "id": "69544fd1",
   "metadata": {},
   "source": [
    "###  Outlier detection with Real dataset"
   ]
  },
  {
   "cell_type": "code",
   "execution_count": 2,
   "id": "0db28d26",
   "metadata": {},
   "outputs": [
    {
     "data": {
      "text/html": [
       "<div>\n",
       "<style scoped>\n",
       "    .dataframe tbody tr th:only-of-type {\n",
       "        vertical-align: middle;\n",
       "    }\n",
       "\n",
       "    .dataframe tbody tr th {\n",
       "        vertical-align: top;\n",
       "    }\n",
       "\n",
       "    .dataframe thead th {\n",
       "        text-align: right;\n",
       "    }\n",
       "</style>\n",
       "<table border=\"1\" class=\"dataframe\">\n",
       "  <thead>\n",
       "    <tr style=\"text-align: right;\">\n",
       "      <th></th>\n",
       "      <th>age</th>\n",
       "      <th>sex</th>\n",
       "      <th>cp</th>\n",
       "      <th>trestbps</th>\n",
       "      <th>chol</th>\n",
       "      <th>fbs</th>\n",
       "      <th>restecg</th>\n",
       "      <th>thalach</th>\n",
       "      <th>exang</th>\n",
       "      <th>oldpeak</th>\n",
       "      <th>slope</th>\n",
       "      <th>ca</th>\n",
       "      <th>thal</th>\n",
       "      <th>target</th>\n",
       "    </tr>\n",
       "  </thead>\n",
       "  <tbody>\n",
       "    <tr>\n",
       "      <th>0</th>\n",
       "      <td>63</td>\n",
       "      <td>1</td>\n",
       "      <td>3</td>\n",
       "      <td>145</td>\n",
       "      <td>233</td>\n",
       "      <td>1</td>\n",
       "      <td>0</td>\n",
       "      <td>150</td>\n",
       "      <td>0</td>\n",
       "      <td>2.3</td>\n",
       "      <td>0</td>\n",
       "      <td>0</td>\n",
       "      <td>1</td>\n",
       "      <td>1</td>\n",
       "    </tr>\n",
       "    <tr>\n",
       "      <th>1</th>\n",
       "      <td>37</td>\n",
       "      <td>1</td>\n",
       "      <td>2</td>\n",
       "      <td>130</td>\n",
       "      <td>250</td>\n",
       "      <td>0</td>\n",
       "      <td>1</td>\n",
       "      <td>187</td>\n",
       "      <td>0</td>\n",
       "      <td>3.5</td>\n",
       "      <td>0</td>\n",
       "      <td>0</td>\n",
       "      <td>2</td>\n",
       "      <td>1</td>\n",
       "    </tr>\n",
       "    <tr>\n",
       "      <th>2</th>\n",
       "      <td>41</td>\n",
       "      <td>0</td>\n",
       "      <td>1</td>\n",
       "      <td>130</td>\n",
       "      <td>204</td>\n",
       "      <td>0</td>\n",
       "      <td>0</td>\n",
       "      <td>172</td>\n",
       "      <td>0</td>\n",
       "      <td>1.4</td>\n",
       "      <td>2</td>\n",
       "      <td>0</td>\n",
       "      <td>2</td>\n",
       "      <td>1</td>\n",
       "    </tr>\n",
       "    <tr>\n",
       "      <th>3</th>\n",
       "      <td>56</td>\n",
       "      <td>1</td>\n",
       "      <td>1</td>\n",
       "      <td>120</td>\n",
       "      <td>236</td>\n",
       "      <td>0</td>\n",
       "      <td>1</td>\n",
       "      <td>178</td>\n",
       "      <td>0</td>\n",
       "      <td>0.8</td>\n",
       "      <td>2</td>\n",
       "      <td>0</td>\n",
       "      <td>2</td>\n",
       "      <td>1</td>\n",
       "    </tr>\n",
       "    <tr>\n",
       "      <th>4</th>\n",
       "      <td>57</td>\n",
       "      <td>0</td>\n",
       "      <td>0</td>\n",
       "      <td>120</td>\n",
       "      <td>354</td>\n",
       "      <td>0</td>\n",
       "      <td>1</td>\n",
       "      <td>163</td>\n",
       "      <td>1</td>\n",
       "      <td>0.6</td>\n",
       "      <td>2</td>\n",
       "      <td>0</td>\n",
       "      <td>2</td>\n",
       "      <td>1</td>\n",
       "    </tr>\n",
       "  </tbody>\n",
       "</table>\n",
       "</div>"
      ],
      "text/plain": [
       "   age  sex  cp  trestbps  chol  fbs  restecg  thalach  exang  oldpeak  slope  \\\n",
       "0   63    1   3       145   233    1        0      150      0      2.3      0   \n",
       "1   37    1   2       130   250    0        1      187      0      3.5      0   \n",
       "2   41    0   1       130   204    0        0      172      0      1.4      2   \n",
       "3   56    1   1       120   236    0        1      178      0      0.8      2   \n",
       "4   57    0   0       120   354    0        1      163      1      0.6      2   \n",
       "\n",
       "   ca  thal  target  \n",
       "0   0     1       1  \n",
       "1   0     2       1  \n",
       "2   0     2       1  \n",
       "3   0     2       1  \n",
       "4   0     2       1  "
      ]
     },
     "execution_count": 2,
     "metadata": {},
     "output_type": "execute_result"
    }
   ],
   "source": [
    "import pandas as pd\n",
    "from sklearn.linear_model import LogisticRegression\n",
    "from sklearn.model_selection import train_test_split\n",
    "from sklearn.metrics import accuracy_score\n",
    "\n",
    "#Load the disease dataset\n",
    "heart_df = pd.read_csv(\"heart_disease.csv\")\n",
    "\n",
    "heart_df.head()"
   ]
  },
  {
   "cell_type": "code",
   "execution_count": 3,
   "id": "bf2355b8",
   "metadata": {},
   "outputs": [
    {
     "data": {
      "text/html": [
       "<div>\n",
       "<style scoped>\n",
       "    .dataframe tbody tr th:only-of-type {\n",
       "        vertical-align: middle;\n",
       "    }\n",
       "\n",
       "    .dataframe tbody tr th {\n",
       "        vertical-align: top;\n",
       "    }\n",
       "\n",
       "    .dataframe thead th {\n",
       "        text-align: right;\n",
       "    }\n",
       "</style>\n",
       "<table border=\"1\" class=\"dataframe\">\n",
       "  <thead>\n",
       "    <tr style=\"text-align: right;\">\n",
       "      <th></th>\n",
       "      <th>age</th>\n",
       "      <th>sex</th>\n",
       "      <th>cp</th>\n",
       "      <th>trestbps</th>\n",
       "      <th>chol</th>\n",
       "      <th>fbs</th>\n",
       "      <th>restecg</th>\n",
       "      <th>thalach</th>\n",
       "      <th>exang</th>\n",
       "      <th>oldpeak</th>\n",
       "      <th>slope</th>\n",
       "      <th>ca</th>\n",
       "      <th>thal</th>\n",
       "      <th>target</th>\n",
       "    </tr>\n",
       "  </thead>\n",
       "  <tbody>\n",
       "    <tr>\n",
       "      <th>count</th>\n",
       "      <td>303.000000</td>\n",
       "      <td>303.000000</td>\n",
       "      <td>303.000000</td>\n",
       "      <td>303.000000</td>\n",
       "      <td>303.000000</td>\n",
       "      <td>303.000000</td>\n",
       "      <td>303.000000</td>\n",
       "      <td>303.000000</td>\n",
       "      <td>303.000000</td>\n",
       "      <td>303.000000</td>\n",
       "      <td>303.000000</td>\n",
       "      <td>303.000000</td>\n",
       "      <td>303.000000</td>\n",
       "      <td>303.000000</td>\n",
       "    </tr>\n",
       "    <tr>\n",
       "      <th>mean</th>\n",
       "      <td>54.366337</td>\n",
       "      <td>0.683168</td>\n",
       "      <td>0.966997</td>\n",
       "      <td>131.623762</td>\n",
       "      <td>246.264026</td>\n",
       "      <td>0.148515</td>\n",
       "      <td>0.528053</td>\n",
       "      <td>149.646865</td>\n",
       "      <td>0.326733</td>\n",
       "      <td>1.039604</td>\n",
       "      <td>1.399340</td>\n",
       "      <td>0.729373</td>\n",
       "      <td>2.313531</td>\n",
       "      <td>0.544554</td>\n",
       "    </tr>\n",
       "    <tr>\n",
       "      <th>std</th>\n",
       "      <td>9.082101</td>\n",
       "      <td>0.466011</td>\n",
       "      <td>1.032052</td>\n",
       "      <td>17.538143</td>\n",
       "      <td>51.830751</td>\n",
       "      <td>0.356198</td>\n",
       "      <td>0.525860</td>\n",
       "      <td>22.905161</td>\n",
       "      <td>0.469794</td>\n",
       "      <td>1.161075</td>\n",
       "      <td>0.616226</td>\n",
       "      <td>1.022606</td>\n",
       "      <td>0.612277</td>\n",
       "      <td>0.498835</td>\n",
       "    </tr>\n",
       "    <tr>\n",
       "      <th>min</th>\n",
       "      <td>29.000000</td>\n",
       "      <td>0.000000</td>\n",
       "      <td>0.000000</td>\n",
       "      <td>94.000000</td>\n",
       "      <td>126.000000</td>\n",
       "      <td>0.000000</td>\n",
       "      <td>0.000000</td>\n",
       "      <td>71.000000</td>\n",
       "      <td>0.000000</td>\n",
       "      <td>0.000000</td>\n",
       "      <td>0.000000</td>\n",
       "      <td>0.000000</td>\n",
       "      <td>0.000000</td>\n",
       "      <td>0.000000</td>\n",
       "    </tr>\n",
       "    <tr>\n",
       "      <th>25%</th>\n",
       "      <td>47.500000</td>\n",
       "      <td>0.000000</td>\n",
       "      <td>0.000000</td>\n",
       "      <td>120.000000</td>\n",
       "      <td>211.000000</td>\n",
       "      <td>0.000000</td>\n",
       "      <td>0.000000</td>\n",
       "      <td>133.500000</td>\n",
       "      <td>0.000000</td>\n",
       "      <td>0.000000</td>\n",
       "      <td>1.000000</td>\n",
       "      <td>0.000000</td>\n",
       "      <td>2.000000</td>\n",
       "      <td>0.000000</td>\n",
       "    </tr>\n",
       "    <tr>\n",
       "      <th>50%</th>\n",
       "      <td>55.000000</td>\n",
       "      <td>1.000000</td>\n",
       "      <td>1.000000</td>\n",
       "      <td>130.000000</td>\n",
       "      <td>240.000000</td>\n",
       "      <td>0.000000</td>\n",
       "      <td>1.000000</td>\n",
       "      <td>153.000000</td>\n",
       "      <td>0.000000</td>\n",
       "      <td>0.800000</td>\n",
       "      <td>1.000000</td>\n",
       "      <td>0.000000</td>\n",
       "      <td>2.000000</td>\n",
       "      <td>1.000000</td>\n",
       "    </tr>\n",
       "    <tr>\n",
       "      <th>75%</th>\n",
       "      <td>61.000000</td>\n",
       "      <td>1.000000</td>\n",
       "      <td>2.000000</td>\n",
       "      <td>140.000000</td>\n",
       "      <td>274.500000</td>\n",
       "      <td>0.000000</td>\n",
       "      <td>1.000000</td>\n",
       "      <td>166.000000</td>\n",
       "      <td>1.000000</td>\n",
       "      <td>1.600000</td>\n",
       "      <td>2.000000</td>\n",
       "      <td>1.000000</td>\n",
       "      <td>3.000000</td>\n",
       "      <td>1.000000</td>\n",
       "    </tr>\n",
       "    <tr>\n",
       "      <th>max</th>\n",
       "      <td>77.000000</td>\n",
       "      <td>1.000000</td>\n",
       "      <td>3.000000</td>\n",
       "      <td>200.000000</td>\n",
       "      <td>564.000000</td>\n",
       "      <td>1.000000</td>\n",
       "      <td>2.000000</td>\n",
       "      <td>202.000000</td>\n",
       "      <td>1.000000</td>\n",
       "      <td>6.200000</td>\n",
       "      <td>2.000000</td>\n",
       "      <td>4.000000</td>\n",
       "      <td>3.000000</td>\n",
       "      <td>1.000000</td>\n",
       "    </tr>\n",
       "  </tbody>\n",
       "</table>\n",
       "</div>"
      ],
      "text/plain": [
       "              age         sex          cp    trestbps        chol         fbs  \\\n",
       "count  303.000000  303.000000  303.000000  303.000000  303.000000  303.000000   \n",
       "mean    54.366337    0.683168    0.966997  131.623762  246.264026    0.148515   \n",
       "std      9.082101    0.466011    1.032052   17.538143   51.830751    0.356198   \n",
       "min     29.000000    0.000000    0.000000   94.000000  126.000000    0.000000   \n",
       "25%     47.500000    0.000000    0.000000  120.000000  211.000000    0.000000   \n",
       "50%     55.000000    1.000000    1.000000  130.000000  240.000000    0.000000   \n",
       "75%     61.000000    1.000000    2.000000  140.000000  274.500000    0.000000   \n",
       "max     77.000000    1.000000    3.000000  200.000000  564.000000    1.000000   \n",
       "\n",
       "          restecg     thalach       exang     oldpeak       slope          ca  \\\n",
       "count  303.000000  303.000000  303.000000  303.000000  303.000000  303.000000   \n",
       "mean     0.528053  149.646865    0.326733    1.039604    1.399340    0.729373   \n",
       "std      0.525860   22.905161    0.469794    1.161075    0.616226    1.022606   \n",
       "min      0.000000   71.000000    0.000000    0.000000    0.000000    0.000000   \n",
       "25%      0.000000  133.500000    0.000000    0.000000    1.000000    0.000000   \n",
       "50%      1.000000  153.000000    0.000000    0.800000    1.000000    0.000000   \n",
       "75%      1.000000  166.000000    1.000000    1.600000    2.000000    1.000000   \n",
       "max      2.000000  202.000000    1.000000    6.200000    2.000000    4.000000   \n",
       "\n",
       "             thal      target  \n",
       "count  303.000000  303.000000  \n",
       "mean     2.313531    0.544554  \n",
       "std      0.612277    0.498835  \n",
       "min      0.000000    0.000000  \n",
       "25%      2.000000    0.000000  \n",
       "50%      2.000000    1.000000  \n",
       "75%      3.000000    1.000000  \n",
       "max      3.000000    1.000000  "
      ]
     },
     "execution_count": 3,
     "metadata": {},
     "output_type": "execute_result"
    }
   ],
   "source": [
    "heart_df.describe()"
   ]
  },
  {
   "cell_type": "code",
   "execution_count": 32,
   "id": "9fc5a2df",
   "metadata": {},
   "outputs": [
    {
     "data": {
      "image/png": "[encoded data removed]",
      "text/plain": [
       "<Figure size 640x480 with 1 Axes>"
      ]
     },
     "metadata": {},
     "output_type": "display_data"
    }
   ],
   "source": [
    "heart_df.plot(kind='box'); #df.describe().plot(kind='box', figsize=(8, 6))"
   ]
  },
  {
   "cell_type": "code",
   "execution_count": 5,
   "id": "ad7a7581",
   "metadata": {},
   "outputs": [
    {
     "name": "stdout",
     "output_type": "stream",
     "text": [
      "Number of outliers derected: 4\n",
      "Size of cleaned dataset: (299, 14)\n"
     ]
    }
   ],
   "source": [
    "#Isolation Methods of Outlier removal\n",
    "## Convert the dataframe to numpy arry. Many machine learning algorithms in libraries like scikit-learn and TensorFlow expect \n",
    "# input data in the form of NumPy arrays\n",
    "\n",
    "heart_df_array= heart_df.values \n",
    "isolation_forest = IsolationForest(n_estimators=100, contamination=0.01) \n",
    "isolation_forest.fit(heart_df_array)\n",
    "outlier_indexes = isolation_forest.predict(heart_df_array) == -1\n",
    "heart_df_no_outliers = heart_df[~outlier_indexes]\n",
    "print(\"Number of outliers derected:\", sum(outlier_indexes))\n",
    "print(\"Size of cleaned dataset:\", heart_df_no_outliers.shape)"
   ]
  },
  {
   "cell_type": "code",
   "execution_count": 31,
   "id": "ea46aeca",
   "metadata": {
    "scrolled": true
   },
   "outputs": [
    {
     "name": "stdout",
     "output_type": "stream",
     "text": [
      "Number of outliers filtered: 16\n",
      "Size of cleaned heartdieses: (287,)\n"
     ]
    },
    {
     "name": "stderr",
     "output_type": "stream",
     "text": [
      "C:\\Users\\Yadi Milki Wabi\\AppData\\Local\\Temp\\ipykernel_10480\\3977582302.py:8: SettingWithCopyWarning: \n",
      "A value is trying to be set on a copy of a slice from a DataFrame.\n",
      "Try using .loc[row_indexer,col_indexer] = value instead\n",
      "\n",
      "See the caveats in the documentation: https://pandas.pydata.org/pandas-docs/stable/user_guide/indexing.html#returning-a-view-versus-a-copy\n",
      "  heart_df.target = heart_df.target[filtered_enteries]\n"
     ]
    }
   ],
   "source": [
    "#let us detect the outliers Z_score methods\n",
    "z_scores = stats.zscore(heart_df)\n",
    "abs_z_scores = np.abs(z_scores)\n",
    "filtered_enteries = (abs_z_scores < 3).all(axis=1)\n",
    "\n",
    "num_outliers = heart_df.target.shape[0]-sum(filtered_enteries)\n",
    "heart_df = heart_df[filtered_enteries]\n",
    "heart_df.target = heart_df.target[filtered_enteries]\n",
    "print(\"Number of outliers filtered:\", num_outliers)\n",
    "print(\"Size of cleaned heartdieses:\", heart_df.target.shape)"
   ]
  },
  {
   "cell_type": "code",
   "execution_count": 32,
   "id": "a02ed6b6",
   "metadata": {},
   "outputs": [
    {
     "name": "stdout",
     "output_type": "stream",
     "text": [
      "Number of outliers filtered: 2\n",
      "Size of cleaned heart disease dataset: (285, 14)\n"
     ]
    }
   ],
   "source": [
    "z_scores = stats.zscore(heart_df)\n",
    "abs_z_scores = np.abs(z_scores)\n",
    "filtered_entries = (abs_z_scores < 3).all(axis=1)\n",
    "\n",
    "num_outliers = heart_df.shape[0] - sum(filtered_entries)\n",
    "heart_df = heart_df[filtered_entries]\n",
    "\n",
    "print(\"Number of outliers filtered:\", num_outliers)\n",
    "print(\"Size of cleaned heart disease dataset:\", heart_df.shape)\n"
   ]
  },
  {
   "cell_type": "code",
   "execution_count": 33,
   "id": "66721b3f",
   "metadata": {},
   "outputs": [
    {
     "name": "stdout",
     "output_type": "stream",
     "text": [
      "Number of outliers filtered: 12\n",
      "Size of cleaned dataset: (430,)\n"
     ]
    }
   ],
   "source": [
    "# Z-Score methods of outlier removal\n",
    "from sklearn.datasets import load_diabetes \n",
    "from scipy import stats\n",
    "import numpy as np\n",
    "\n",
    "# load the dataset\n",
    "diabetes = load_diabetes()\n",
    "#let us detect the outliers Z_score methods\n",
    "z_scores = stats.zscore(diabetes.data)\n",
    "abs_z_scores = np.abs(z_scores)\n",
    "filtered_enteries = (abs_z_scores < 3).all(axis=1)\n",
    "\n",
    "num_outliers = diabetes.target.shape[0]-sum(filtered_enteries)\n",
    "diabetes.data = diabetes.data[filtered_enteries]\n",
    "diabetes.target = diabetes.target[filtered_enteries]\n",
    "print(\"Number of outliers filtered:\", num_outliers)\n",
    "print(\"Size of cleaned dataset:\", diabetes.target.shape)"
   ]
  },
  {
   "cell_type": "code",
   "execution_count": 9,
   "id": "266631c5",
   "metadata": {},
   "outputs": [
    {
     "name": "stdout",
     "output_type": "stream",
     "text": [
      "Accuracy with z_score: 0.8275862068965517\n",
      "F1 score with z_score: 0.8571428571428571\n",
      "===============================\n",
      "Accuracy with IsoForest: 0.85\n",
      "F1 score with IsoForest 0.88\n",
      "===============================\n",
      "Accuracy of the uncleaned: 0.8688524590163934\n",
      "F1 score 0f the uncleaned 0.875\n"
     ]
    }
   ],
   "source": [
    "#Let us test our model with and without outliers\n",
    "import pandas as pd\n",
    "import numpy as np\n",
    "from scipy import stats\n",
    "from sklearn.ensemble import IsolationForest\n",
    "from sklearn.model_selection import train_test_split\n",
    "from sklearn.linear_model import LogisticRegression\n",
    "from sklearn.metrics import accuracy_score, f1_score\n",
    "\n",
    "heart_df = pd.read_csv(\"heart_disease.csv\")\n",
    "#z_score methods\n",
    "z_score = np.abs(stats.zscore(heart_df))\n",
    "heart_df_z = heart_df[(z_score < 3).all(axis=1)]\n",
    "# isolation method\n",
    "isolation_forest = IsolationForest(n_estimators=100, contamination=0.01)\n",
    "isolation_forest.fit(heart_df.values)\n",
    "outlier_indexes = isolation_forest.predict(heart_df.values) == -1\n",
    "heart_df_iso = heart_df[~outlier_indexes]\n",
    "\n",
    "# split the cleaned dataset into training and test sets\n",
    "\n",
    "#With Z_scores\n",
    "X_z, y_z = heart_df_z.drop('target',axis=1), heart_df_z['target']\n",
    "X_train_z, X_test_z, y_train_z, y_test_z = train_test_split(X_z, y_z, test_size = 0.2, random_state=42)\n",
    "\n",
    "lr_z = LogisticRegression(max_iter=1000)\n",
    "lr_z.fit(X_train_z,y_train_z)\n",
    "y_pred_z = lr_z.predict(X_test_z)\n",
    "acc_z = accuracy_score(y_test_z, y_pred_z)\n",
    "fl_z = f1_score(y_test_z, y_pred_z)\n",
    "\n",
    "#with Isolation forest\n",
    "X_iso, y_iso = heart_df_iso.drop('target',axis=1), heart_df_iso['target']\n",
    "X_train_iso, X_test_iso, y_train_iso, y_test_iso = train_test_split(X_iso, y_iso, test_size = 0.2, random_state=42)\n",
    "lr_iso = LogisticRegression(max_iter=1000)\n",
    "lr_iso.fit(X_train_iso,y_train_iso)\n",
    "y_pred_iso = lr_iso.predict(X_test_iso)\n",
    "acc_iso = accuracy_score(y_test_iso, y_pred_iso)\n",
    "fl_iso = f1_score(y_test_iso, y_pred_iso)\n",
    "\n",
    "#with the uncleaned dataset\n",
    "X, y = heart_df.drop('target',axis=1), heart_df['target']\n",
    "X_train, X_test, y_train, y_test = train_test_split(X, y, test_size = 0.2, random_state=42)\n",
    "lr = LogisticRegression(max_iter=1000)\n",
    "lr.fit(X_train,y_train)\n",
    "y_pred = lr_z.predict(X_test)\n",
    "acc = accuracy_score(y_test, y_pred)\n",
    "fl = f1_score(y_test, y_pred)\n",
    "\n",
    "#print the performance metrics on all datasets\n",
    "print(\"Accuracy with z_score:\", acc_z)\n",
    "print(\"F1 score with z_score:\", fl_z)\n",
    "print(\"===============================\")\n",
    "print(\"Accuracy with IsoForest:\", acc_iso)\n",
    "print(\"F1 score with IsoForest\", fl_iso)\n",
    "print(\"===============================\")\n",
    "print(\"Accuracy of the uncleaned:\", acc)\n",
    "print(\"F1 score 0f the uncleaned\", fl)"
   ]
  },
  {
   "cell_type": "markdown",
   "id": "978a2424",
   "metadata": {},
   "source": [
    "## Data normalization\n",
    "\n",
    "Data normalization is a preprocessing technique used in data analysis and machine learning to scale and transform the features of a dataset. The goal is to bring the values of different features to a similar scale, preventing certain features from dominating the others due to their inherent magnitude. This process aids in improving the performance of algorithms, especially those sensitive to the scale of input features. Here are the key aspects of data normalization:\n",
    "\n",
    "1. **Scale Consistency:**\n",
    "   - Features in a dataset often have different units and ranges. Normalization ensures that all features are on a consistent scale, making it easier to compare and analyze them.\n",
    "\n",
    "2. **Preventing Dominance:**\n",
    "   - In models that use distance-based metrics (e.g., k-nearest neighbors, clustering algorithms), features with larger scales may dominate the influence, leading to biased results. Normalization mitigates this issue.\n",
    "\n",
    "3. **Algorithm Sensitivity:**\n",
    "   - Many machine learning algorithms, such as gradient-based optimization methods (e.g., gradient descent), are sensitive to the scale of input features. Normalizing the data helps algorithms converge faster and perform more reliably.\n",
    "\n",
    "4. **Standardization vs. Min-Max Scaling:**\n",
    "   - Two common normalization techniques are standardization and min-max scaling.\n",
    "      - **Standardization (Z-score normalization):** It transforms data to have a mean of 0 and a standard deviation of 1. The formula is $z = \\frac{(x - \\mu)}{\\sigma}$, where $x$ is the original value, $\\mu$ is the mean, and $\\sigma$ is the standard deviation.\n",
    "      - **Min-Max Scaling:** It scales data to a specific range, often between 0 and 1. The formula is $x_{\\text{scaled}} = \\frac{(x - \\text{min})}{(\\text{max} - \\text{min})}$.\n",
    "\n",
    "5. **Applicability:**\n",
    "   - The choice between standardization and min-max scaling depends on the characteristics of the data and the requirements of the algorithm. Standardization is less affected by outliers, making it suitable for robustness against extreme values.\n"
   ]
  },
  {
   "cell_type": "code",
   "execution_count": 10,
   "id": "f3eb9a15",
   "metadata": {},
   "outputs": [
    {
     "data": {
      "text/html": [
       "<div>\n",
       "<style scoped>\n",
       "    .dataframe tbody tr th:only-of-type {\n",
       "        vertical-align: middle;\n",
       "    }\n",
       "\n",
       "    .dataframe tbody tr th {\n",
       "        vertical-align: top;\n",
       "    }\n",
       "\n",
       "    .dataframe thead th {\n",
       "        text-align: right;\n",
       "    }\n",
       "</style>\n",
       "<table border=\"1\" class=\"dataframe\">\n",
       "  <thead>\n",
       "    <tr style=\"text-align: right;\">\n",
       "      <th></th>\n",
       "      <th>age</th>\n",
       "      <th>sex</th>\n",
       "      <th>bmi</th>\n",
       "      <th>bp</th>\n",
       "      <th>s1</th>\n",
       "      <th>s2</th>\n",
       "      <th>s3</th>\n",
       "      <th>s4</th>\n",
       "      <th>s5</th>\n",
       "      <th>s6</th>\n",
       "    </tr>\n",
       "  </thead>\n",
       "  <tbody>\n",
       "    <tr>\n",
       "      <th>0</th>\n",
       "      <td>0.038076</td>\n",
       "      <td>0.050680</td>\n",
       "      <td>0.061696</td>\n",
       "      <td>0.021872</td>\n",
       "      <td>-0.044223</td>\n",
       "      <td>-0.034821</td>\n",
       "      <td>-0.043401</td>\n",
       "      <td>-0.002592</td>\n",
       "      <td>0.019907</td>\n",
       "      <td>-0.017646</td>\n",
       "    </tr>\n",
       "    <tr>\n",
       "      <th>1</th>\n",
       "      <td>-0.001882</td>\n",
       "      <td>-0.044642</td>\n",
       "      <td>-0.051474</td>\n",
       "      <td>-0.026328</td>\n",
       "      <td>-0.008449</td>\n",
       "      <td>-0.019163</td>\n",
       "      <td>0.074412</td>\n",
       "      <td>-0.039493</td>\n",
       "      <td>-0.068332</td>\n",
       "      <td>-0.092204</td>\n",
       "    </tr>\n",
       "    <tr>\n",
       "      <th>2</th>\n",
       "      <td>0.085299</td>\n",
       "      <td>0.050680</td>\n",
       "      <td>0.044451</td>\n",
       "      <td>-0.005670</td>\n",
       "      <td>-0.045599</td>\n",
       "      <td>-0.034194</td>\n",
       "      <td>-0.032356</td>\n",
       "      <td>-0.002592</td>\n",
       "      <td>0.002861</td>\n",
       "      <td>-0.025930</td>\n",
       "    </tr>\n",
       "    <tr>\n",
       "      <th>3</th>\n",
       "      <td>-0.089063</td>\n",
       "      <td>-0.044642</td>\n",
       "      <td>-0.011595</td>\n",
       "      <td>-0.036656</td>\n",
       "      <td>0.012191</td>\n",
       "      <td>0.024991</td>\n",
       "      <td>-0.036038</td>\n",
       "      <td>0.034309</td>\n",
       "      <td>0.022688</td>\n",
       "      <td>-0.009362</td>\n",
       "    </tr>\n",
       "    <tr>\n",
       "      <th>4</th>\n",
       "      <td>0.005383</td>\n",
       "      <td>-0.044642</td>\n",
       "      <td>-0.036385</td>\n",
       "      <td>0.021872</td>\n",
       "      <td>0.003935</td>\n",
       "      <td>0.015596</td>\n",
       "      <td>0.008142</td>\n",
       "      <td>-0.002592</td>\n",
       "      <td>-0.031988</td>\n",
       "      <td>-0.046641</td>\n",
       "    </tr>\n",
       "  </tbody>\n",
       "</table>\n",
       "</div>"
      ],
      "text/plain": [
       "        age       sex       bmi        bp        s1        s2        s3  \\\n",
       "0  0.038076  0.050680  0.061696  0.021872 -0.044223 -0.034821 -0.043401   \n",
       "1 -0.001882 -0.044642 -0.051474 -0.026328 -0.008449 -0.019163  0.074412   \n",
       "2  0.085299  0.050680  0.044451 -0.005670 -0.045599 -0.034194 -0.032356   \n",
       "3 -0.089063 -0.044642 -0.011595 -0.036656  0.012191  0.024991 -0.036038   \n",
       "4  0.005383 -0.044642 -0.036385  0.021872  0.003935  0.015596  0.008142   \n",
       "\n",
       "         s4        s5        s6  \n",
       "0 -0.002592  0.019907 -0.017646  \n",
       "1 -0.039493 -0.068332 -0.092204  \n",
       "2 -0.002592  0.002861 -0.025930  \n",
       "3  0.034309  0.022688 -0.009362  \n",
       "4 -0.002592 -0.031988 -0.046641  "
      ]
     },
     "execution_count": 10,
     "metadata": {},
     "output_type": "execute_result"
    }
   ],
   "source": [
    "import pandas as pd \n",
    "from sklearn.datasets import load_diabetes\n",
    "from sklearn.preprocessing import StandardScaler, MinMaxScaler\n",
    "\n",
    "diabetes = load_diabetes()\n",
    "df_diabetes = pd.DataFrame(diabetes.data, columns=diabetes.feature_names)\n",
    "df_diabetes.head()"
   ]
  },
  {
   "cell_type": "code",
   "execution_count": 11,
   "id": "622564d1",
   "metadata": {},
   "outputs": [],
   "source": [
    "z_scaler = StandardScaler()\n",
    "df_diabetes['age_z'] = z_scaler.fit_transform(df_diabetes[['age']]) "
   ]
  },
  {
   "cell_type": "code",
   "execution_count": 12,
   "id": "e043a9f8",
   "metadata": {},
   "outputs": [
    {
     "data": {
      "text/html": [
       "<div>\n",
       "<style scoped>\n",
       "    .dataframe tbody tr th:only-of-type {\n",
       "        vertical-align: middle;\n",
       "    }\n",
       "\n",
       "    .dataframe tbody tr th {\n",
       "        vertical-align: top;\n",
       "    }\n",
       "\n",
       "    .dataframe thead th {\n",
       "        text-align: right;\n",
       "    }\n",
       "</style>\n",
       "<table border=\"1\" class=\"dataframe\">\n",
       "  <thead>\n",
       "    <tr style=\"text-align: right;\">\n",
       "      <th></th>\n",
       "      <th>age</th>\n",
       "      <th>sex</th>\n",
       "      <th>bmi</th>\n",
       "      <th>bp</th>\n",
       "      <th>s1</th>\n",
       "      <th>s2</th>\n",
       "      <th>s3</th>\n",
       "      <th>s4</th>\n",
       "      <th>s5</th>\n",
       "      <th>s6</th>\n",
       "      <th>age_z</th>\n",
       "    </tr>\n",
       "  </thead>\n",
       "  <tbody>\n",
       "    <tr>\n",
       "      <th>0</th>\n",
       "      <td>0.038076</td>\n",
       "      <td>0.050680</td>\n",
       "      <td>0.061696</td>\n",
       "      <td>0.021872</td>\n",
       "      <td>-0.044223</td>\n",
       "      <td>-0.034821</td>\n",
       "      <td>-0.043401</td>\n",
       "      <td>-0.002592</td>\n",
       "      <td>0.019907</td>\n",
       "      <td>-0.017646</td>\n",
       "      <td>0.800500</td>\n",
       "    </tr>\n",
       "    <tr>\n",
       "      <th>1</th>\n",
       "      <td>-0.001882</td>\n",
       "      <td>-0.044642</td>\n",
       "      <td>-0.051474</td>\n",
       "      <td>-0.026328</td>\n",
       "      <td>-0.008449</td>\n",
       "      <td>-0.019163</td>\n",
       "      <td>0.074412</td>\n",
       "      <td>-0.039493</td>\n",
       "      <td>-0.068332</td>\n",
       "      <td>-0.092204</td>\n",
       "      <td>-0.039567</td>\n",
       "    </tr>\n",
       "    <tr>\n",
       "      <th>2</th>\n",
       "      <td>0.085299</td>\n",
       "      <td>0.050680</td>\n",
       "      <td>0.044451</td>\n",
       "      <td>-0.005670</td>\n",
       "      <td>-0.045599</td>\n",
       "      <td>-0.034194</td>\n",
       "      <td>-0.032356</td>\n",
       "      <td>-0.002592</td>\n",
       "      <td>0.002861</td>\n",
       "      <td>-0.025930</td>\n",
       "      <td>1.793307</td>\n",
       "    </tr>\n",
       "    <tr>\n",
       "      <th>3</th>\n",
       "      <td>-0.089063</td>\n",
       "      <td>-0.044642</td>\n",
       "      <td>-0.011595</td>\n",
       "      <td>-0.036656</td>\n",
       "      <td>0.012191</td>\n",
       "      <td>0.024991</td>\n",
       "      <td>-0.036038</td>\n",
       "      <td>0.034309</td>\n",
       "      <td>0.022688</td>\n",
       "      <td>-0.009362</td>\n",
       "      <td>-1.872441</td>\n",
       "    </tr>\n",
       "    <tr>\n",
       "      <th>4</th>\n",
       "      <td>0.005383</td>\n",
       "      <td>-0.044642</td>\n",
       "      <td>-0.036385</td>\n",
       "      <td>0.021872</td>\n",
       "      <td>0.003935</td>\n",
       "      <td>0.015596</td>\n",
       "      <td>0.008142</td>\n",
       "      <td>-0.002592</td>\n",
       "      <td>-0.031988</td>\n",
       "      <td>-0.046641</td>\n",
       "      <td>0.113172</td>\n",
       "    </tr>\n",
       "    <tr>\n",
       "      <th>...</th>\n",
       "      <td>...</td>\n",
       "      <td>...</td>\n",
       "      <td>...</td>\n",
       "      <td>...</td>\n",
       "      <td>...</td>\n",
       "      <td>...</td>\n",
       "      <td>...</td>\n",
       "      <td>...</td>\n",
       "      <td>...</td>\n",
       "      <td>...</td>\n",
       "      <td>...</td>\n",
       "    </tr>\n",
       "    <tr>\n",
       "      <th>437</th>\n",
       "      <td>0.041708</td>\n",
       "      <td>0.050680</td>\n",
       "      <td>0.019662</td>\n",
       "      <td>0.059744</td>\n",
       "      <td>-0.005697</td>\n",
       "      <td>-0.002566</td>\n",
       "      <td>-0.028674</td>\n",
       "      <td>-0.002592</td>\n",
       "      <td>0.031193</td>\n",
       "      <td>0.007207</td>\n",
       "      <td>0.876870</td>\n",
       "    </tr>\n",
       "    <tr>\n",
       "      <th>438</th>\n",
       "      <td>-0.005515</td>\n",
       "      <td>0.050680</td>\n",
       "      <td>-0.015906</td>\n",
       "      <td>-0.067642</td>\n",
       "      <td>0.049341</td>\n",
       "      <td>0.079165</td>\n",
       "      <td>-0.028674</td>\n",
       "      <td>0.034309</td>\n",
       "      <td>-0.018114</td>\n",
       "      <td>0.044485</td>\n",
       "      <td>-0.115937</td>\n",
       "    </tr>\n",
       "    <tr>\n",
       "      <th>439</th>\n",
       "      <td>0.041708</td>\n",
       "      <td>0.050680</td>\n",
       "      <td>-0.015906</td>\n",
       "      <td>0.017293</td>\n",
       "      <td>-0.037344</td>\n",
       "      <td>-0.013840</td>\n",
       "      <td>-0.024993</td>\n",
       "      <td>-0.011080</td>\n",
       "      <td>-0.046883</td>\n",
       "      <td>0.015491</td>\n",
       "      <td>0.876870</td>\n",
       "    </tr>\n",
       "    <tr>\n",
       "      <th>440</th>\n",
       "      <td>-0.045472</td>\n",
       "      <td>-0.044642</td>\n",
       "      <td>0.039062</td>\n",
       "      <td>0.001215</td>\n",
       "      <td>0.016318</td>\n",
       "      <td>0.015283</td>\n",
       "      <td>-0.028674</td>\n",
       "      <td>0.026560</td>\n",
       "      <td>0.044529</td>\n",
       "      <td>-0.025930</td>\n",
       "      <td>-0.956004</td>\n",
       "    </tr>\n",
       "    <tr>\n",
       "      <th>441</th>\n",
       "      <td>-0.045472</td>\n",
       "      <td>-0.044642</td>\n",
       "      <td>-0.073030</td>\n",
       "      <td>-0.081413</td>\n",
       "      <td>0.083740</td>\n",
       "      <td>0.027809</td>\n",
       "      <td>0.173816</td>\n",
       "      <td>-0.039493</td>\n",
       "      <td>-0.004222</td>\n",
       "      <td>0.003064</td>\n",
       "      <td>-0.956004</td>\n",
       "    </tr>\n",
       "  </tbody>\n",
       "</table>\n",
       "<p>442 rows × 11 columns</p>\n",
       "</div>"
      ],
      "text/plain": [
       "          age       sex       bmi        bp        s1        s2        s3  \\\n",
       "0    0.038076  0.050680  0.061696  0.021872 -0.044223 -0.034821 -0.043401   \n",
       "1   -0.001882 -0.044642 -0.051474 -0.026328 -0.008449 -0.019163  0.074412   \n",
       "2    0.085299  0.050680  0.044451 -0.005670 -0.045599 -0.034194 -0.032356   \n",
       "3   -0.089063 -0.044642 -0.011595 -0.036656  0.012191  0.024991 -0.036038   \n",
       "4    0.005383 -0.044642 -0.036385  0.021872  0.003935  0.015596  0.008142   \n",
       "..        ...       ...       ...       ...       ...       ...       ...   \n",
       "437  0.041708  0.050680  0.019662  0.059744 -0.005697 -0.002566 -0.028674   \n",
       "438 -0.005515  0.050680 -0.015906 -0.067642  0.049341  0.079165 -0.028674   \n",
       "439  0.041708  0.050680 -0.015906  0.017293 -0.037344 -0.013840 -0.024993   \n",
       "440 -0.045472 -0.044642  0.039062  0.001215  0.016318  0.015283 -0.028674   \n",
       "441 -0.045472 -0.044642 -0.073030 -0.081413  0.083740  0.027809  0.173816   \n",
       "\n",
       "           s4        s5        s6     age_z  \n",
       "0   -0.002592  0.019907 -0.017646  0.800500  \n",
       "1   -0.039493 -0.068332 -0.092204 -0.039567  \n",
       "2   -0.002592  0.002861 -0.025930  1.793307  \n",
       "3    0.034309  0.022688 -0.009362 -1.872441  \n",
       "4   -0.002592 -0.031988 -0.046641  0.113172  \n",
       "..        ...       ...       ...       ...  \n",
       "437 -0.002592  0.031193  0.007207  0.876870  \n",
       "438  0.034309 -0.018114  0.044485 -0.115937  \n",
       "439 -0.011080 -0.046883  0.015491  0.876870  \n",
       "440  0.026560  0.044529 -0.025930 -0.956004  \n",
       "441 -0.039493 -0.004222  0.003064 -0.956004  \n",
       "\n",
       "[442 rows x 11 columns]"
      ]
     },
     "execution_count": 12,
     "metadata": {},
     "output_type": "execute_result"
    }
   ],
   "source": [
    "df_diabetes"
   ]
  },
  {
   "cell_type": "markdown",
   "id": "b7c00102",
   "metadata": {},
   "source": [
    "* This line of code is adding a new column called *'age_z'* to a pandas DataFrame called *'df_diabetes'*. The values in this new column are the standardized (or normalized) values of the 'age' column in 'df_diabetes'.\n",
    "The process of standardization involves transforming the values of a numerical variable to have a mean of 0 and a standard deviation of 1. This is done by subtracting the mean of the variable from each value and then dividing by the standard deviation. The result is a variable with values that are expressed in terms of how many standard deviations away from the mean they are."
   ]
  },
  {
   "cell_type": "code",
   "execution_count": 17,
   "id": "4c8baded",
   "metadata": {},
   "outputs": [
    {
     "name": "stdout",
     "output_type": "stream",
     "text": [
      "        age     age_z       bmi    bmi_mm\n",
      "0  0.038076  0.800500  0.061696  0.582645\n",
      "1 -0.001882 -0.039567 -0.051474  0.148760\n",
      "2  0.085299  1.793307  0.044451  0.516529\n",
      "3 -0.089063 -1.872441 -0.011595  0.301653\n",
      "4  0.005383  0.113172 -0.036385  0.206612\n"
     ]
    }
   ],
   "source": [
    "#perform min-max scaling on the bmi column \n",
    "mm_scaler = MinMaxScaler()\n",
    "df_diabetes['bmi_mm'] = mm_scaler.fit_transform(df_diabetes[['bmi']])\n",
    "# Print the normalized and scaled data\n",
    "print(df_diabetes[['age', 'age_z', 'bmi', 'bmi_mm']].head())"
   ]
  },
  {
   "cell_type": "code",
   "execution_count": 18,
   "id": "15b55d50",
   "metadata": {},
   "outputs": [
    {
     "data": {
      "text/html": [
       "<div>\n",
       "<style scoped>\n",
       "    .dataframe tbody tr th:only-of-type {\n",
       "        vertical-align: middle;\n",
       "    }\n",
       "\n",
       "    .dataframe tbody tr th {\n",
       "        vertical-align: top;\n",
       "    }\n",
       "\n",
       "    .dataframe thead th {\n",
       "        text-align: right;\n",
       "    }\n",
       "</style>\n",
       "<table border=\"1\" class=\"dataframe\">\n",
       "  <thead>\n",
       "    <tr style=\"text-align: right;\">\n",
       "      <th></th>\n",
       "      <th>A</th>\n",
       "      <th>B</th>\n",
       "    </tr>\n",
       "  </thead>\n",
       "  <tbody>\n",
       "    <tr>\n",
       "      <th>0</th>\n",
       "      <td>10</td>\n",
       "      <td>100</td>\n",
       "    </tr>\n",
       "    <tr>\n",
       "      <th>1</th>\n",
       "      <td>20</td>\n",
       "      <td>200</td>\n",
       "    </tr>\n",
       "    <tr>\n",
       "      <th>2</th>\n",
       "      <td>30</td>\n",
       "      <td>300</td>\n",
       "    </tr>\n",
       "    <tr>\n",
       "      <th>3</th>\n",
       "      <td>40</td>\n",
       "      <td>400</td>\n",
       "    </tr>\n",
       "    <tr>\n",
       "      <th>4</th>\n",
       "      <td>50</td>\n",
       "      <td>500</td>\n",
       "    </tr>\n",
       "  </tbody>\n",
       "</table>\n",
       "</div>"
      ],
      "text/plain": [
       "    A    B\n",
       "0  10  100\n",
       "1  20  200\n",
       "2  30  300\n",
       "3  40  400\n",
       "4  50  500"
      ]
     },
     "execution_count": 18,
     "metadata": {},
     "output_type": "execute_result"
    }
   ],
   "source": [
    "#Example 2: how to perform Z-score normalization\n",
    "import pandas as pd\n",
    "from sklearn.preprocessing import StandardScaler\n",
    "\n",
    "# create a sample DataFrame\n",
    "df = pd.DataFrame({'A': [10, 20, 30, 40, 50], 'B': [100, 200, 300, 400, 500]})\n",
    "df"
   ]
  },
  {
   "cell_type": "code",
   "execution_count": 19,
   "id": "18e07131",
   "metadata": {},
   "outputs": [
    {
     "name": "stdout",
     "output_type": "stream",
     "text": [
      "          A         B\n",
      "0 -1.414214 -1.414214\n",
      "1 -0.707107 -0.707107\n",
      "2  0.000000  0.000000\n",
      "3  0.707107  0.707107\n",
      "4  1.414214  1.414214\n"
     ]
    }
   ],
   "source": [
    "#Example 2: how to perform Z-score normalization\n",
    "import pandas as pd\n",
    "from sklearn.preprocessing import StandardScaler\n",
    "\n",
    "# create a sample DataFrame\n",
    "df = pd.DataFrame({'A': [10, 20, 30, 40, 50], 'B': [100, 200, 300, 400, 500]})\n",
    "\n",
    "# instantiate a StandardScaler object\n",
    "scaler = StandardScaler()\n",
    "\n",
    "# apply Z-score normalization to the DataFrame\n",
    "normalized_df = pd.DataFrame(scaler.fit_transform(df), columns=df.columns)\n",
    "\n",
    "# print the normalized DataFrame\n",
    "print(normalized_df)\n"
   ]
  },
  {
   "cell_type": "code",
   "execution_count": 20,
   "id": "c0b10ac7",
   "metadata": {},
   "outputs": [
    {
     "name": "stdout",
     "output_type": "stream",
     "text": [
      "      A     B\n",
      "0  0.00  0.00\n",
      "1  0.25  0.25\n",
      "2  0.50  0.50\n",
      "3  0.75  0.75\n",
      "4  1.00  1.00\n"
     ]
    }
   ],
   "source": [
    "# Example of how to perform Min-Max scaling normalization\n",
    "import pandas as pd\n",
    "from sklearn.preprocessing import MinMaxScaler\n",
    "\n",
    "# create a sample DataFrame\n",
    "df = pd.DataFrame({'A': [10, 20, 30, 40, 50], 'B': [100, 200, 300, 400, 500]})\n",
    "\n",
    "# instantiate a MinMaxScaler object\n",
    "scaler = MinMaxScaler()\n",
    "\n",
    "# apply Min-Max scaling to the DataFrame\n",
    "normalized_df = pd.DataFrame(scaler.fit_transform(df), columns=df.columns)\n",
    "\n",
    "# print the normalized DataFrame\n",
    "print(normalized_df)\n"
   ]
  },
  {
   "cell_type": "markdown",
   "id": "a71b4ebb",
   "metadata": {},
   "source": [
    "##  Data Encoding\n",
    "\n",
    "Data encoding is a process of transforming categorical data into a numerical format suitable for analysis by machine learning algorithms. Categorical data consists of discrete labels, such as colors, types, or categories, which are not inherently numerical. Two common encoding techniques are Label Encoding and One-Hot Encoding.\n",
    "\n",
    "1. **Label Encoding:**\n",
    "   - **Method:** In label encoding, each unique category is assigned a unique integer label.\n",
    "   - **Example:** If we have categories like 'Red,' 'Green,' and 'Blue,' label encoding might assign them labels 0, 1, and 2, respectively.\n",
    "   - **Use Case:** Label encoding is often used when there is an ordinal relationship between categories, meaning there is a meaningful order or ranking among them.\n",
    "\n",
    "2. **One-Hot Encoding:**\n",
    "   - **Method:** One-hot encoding creates binary columns for each category and indicates the presence or absence of the category with a 1 or 0, respectively.\n",
    "   - **Example:** For the categories 'Red,' 'Green,' and 'Blue,' one-hot encoding would create three binary columns, each representing one color, with values like [1, 0, 0] for 'Red,' [0, 1, 0] for 'Green,' and [0, 0, 1] for 'Blue.'\n",
    "   - **Use Case:** One-hot encoding is commonly used when there is no inherent order among categories, and each category is considered equally distinct.\n",
    "\n",
    "**Considerations:**\n",
    "- Label encoding might introduce unintended ordinal relationships in the data, which can be problematic for some algorithms.\n",
    "- One-hot encoding avoids this issue by representing categories independently, but it can lead to a large number of features, especially when dealing with a high number of categories.\n",
    "- The choice between label encoding and one-hot encoding depends on the nature of the data and the requirements of the machine learning algorithm being used.\n",
    "\n",
    "**Application:**\n",
    "- Data encoding is crucial when working with machine learning models that require numerical input, such as linear regression, support vector machines, or neural networks.\n",
    "- Many machine learning libraries and frameworks provide convenient functions for implementing these encoding techniques."
   ]
  },
  {
   "cell_type": "code",
   "execution_count": 21,
   "id": "dac03683",
   "metadata": {},
   "outputs": [
    {
     "data": {
      "text/html": [
       "<div>\n",
       "<style scoped>\n",
       "    .dataframe tbody tr th:only-of-type {\n",
       "        vertical-align: middle;\n",
       "    }\n",
       "\n",
       "    .dataframe tbody tr th {\n",
       "        vertical-align: top;\n",
       "    }\n",
       "\n",
       "    .dataframe thead th {\n",
       "        text-align: right;\n",
       "    }\n",
       "</style>\n",
       "<table border=\"1\" class=\"dataframe\">\n",
       "  <thead>\n",
       "    <tr style=\"text-align: right;\">\n",
       "      <th></th>\n",
       "      <th>species</th>\n",
       "      <th>island</th>\n",
       "      <th>bill_length_mm</th>\n",
       "      <th>bill_depth_mm</th>\n",
       "      <th>flipper_length_mm</th>\n",
       "      <th>body_mass_g</th>\n",
       "      <th>sex</th>\n",
       "    </tr>\n",
       "  </thead>\n",
       "  <tbody>\n",
       "    <tr>\n",
       "      <th>0</th>\n",
       "      <td>Adelie</td>\n",
       "      <td>Torgersen</td>\n",
       "      <td>39.1</td>\n",
       "      <td>18.7</td>\n",
       "      <td>181.0</td>\n",
       "      <td>3750.0</td>\n",
       "      <td>Male</td>\n",
       "    </tr>\n",
       "    <tr>\n",
       "      <th>1</th>\n",
       "      <td>Adelie</td>\n",
       "      <td>Torgersen</td>\n",
       "      <td>39.5</td>\n",
       "      <td>17.4</td>\n",
       "      <td>186.0</td>\n",
       "      <td>3800.0</td>\n",
       "      <td>Female</td>\n",
       "    </tr>\n",
       "    <tr>\n",
       "      <th>2</th>\n",
       "      <td>Adelie</td>\n",
       "      <td>Torgersen</td>\n",
       "      <td>40.3</td>\n",
       "      <td>18.0</td>\n",
       "      <td>195.0</td>\n",
       "      <td>3250.0</td>\n",
       "      <td>Female</td>\n",
       "    </tr>\n",
       "    <tr>\n",
       "      <th>3</th>\n",
       "      <td>Adelie</td>\n",
       "      <td>Torgersen</td>\n",
       "      <td>NaN</td>\n",
       "      <td>NaN</td>\n",
       "      <td>NaN</td>\n",
       "      <td>NaN</td>\n",
       "      <td>NaN</td>\n",
       "    </tr>\n",
       "    <tr>\n",
       "      <th>4</th>\n",
       "      <td>Adelie</td>\n",
       "      <td>Torgersen</td>\n",
       "      <td>36.7</td>\n",
       "      <td>19.3</td>\n",
       "      <td>193.0</td>\n",
       "      <td>3450.0</td>\n",
       "      <td>Female</td>\n",
       "    </tr>\n",
       "  </tbody>\n",
       "</table>\n",
       "</div>"
      ],
      "text/plain": [
       "  species     island  bill_length_mm  bill_depth_mm  flipper_length_mm  \\\n",
       "0  Adelie  Torgersen            39.1           18.7              181.0   \n",
       "1  Adelie  Torgersen            39.5           17.4              186.0   \n",
       "2  Adelie  Torgersen            40.3           18.0              195.0   \n",
       "3  Adelie  Torgersen             NaN            NaN                NaN   \n",
       "4  Adelie  Torgersen            36.7           19.3              193.0   \n",
       "\n",
       "   body_mass_g     sex  \n",
       "0       3750.0    Male  \n",
       "1       3800.0  Female  \n",
       "2       3250.0  Female  \n",
       "3          NaN     NaN  \n",
       "4       3450.0  Female  "
      ]
     },
     "execution_count": 21,
     "metadata": {},
     "output_type": "execute_result"
    }
   ],
   "source": [
    "import pandas as pd\n",
    "import seaborn as sns\n",
    "from sklearn.preprocessing import LabelEncoder, OneHotEncoder\n",
    "import warnings\n",
    "from scipy.sparse import SparseEfficiencyWarning\n",
    "warnings.simplefilter('ignore',SparseEfficiencyWarning)\n",
    "df_penguins = sns.load_dataset(\"penguins\")\n",
    "\n",
    "df_penguins.head()"
   ]
  },
  {
   "cell_type": "code",
   "execution_count": 22,
   "id": "55d1c145",
   "metadata": {},
   "outputs": [
    {
     "data": {
      "text/html": [
       "<div>\n",
       "<style scoped>\n",
       "    .dataframe tbody tr th:only-of-type {\n",
       "        vertical-align: middle;\n",
       "    }\n",
       "\n",
       "    .dataframe tbody tr th {\n",
       "        vertical-align: top;\n",
       "    }\n",
       "\n",
       "    .dataframe thead th {\n",
       "        text-align: right;\n",
       "    }\n",
       "</style>\n",
       "<table border=\"1\" class=\"dataframe\">\n",
       "  <thead>\n",
       "    <tr style=\"text-align: right;\">\n",
       "      <th></th>\n",
       "      <th>species</th>\n",
       "      <th>island</th>\n",
       "      <th>bill_length_mm</th>\n",
       "      <th>bill_depth_mm</th>\n",
       "      <th>flipper_length_mm</th>\n",
       "      <th>body_mass_g</th>\n",
       "      <th>sex</th>\n",
       "      <th>sex_encoded</th>\n",
       "    </tr>\n",
       "  </thead>\n",
       "  <tbody>\n",
       "    <tr>\n",
       "      <th>0</th>\n",
       "      <td>Adelie</td>\n",
       "      <td>Torgersen</td>\n",
       "      <td>39.1</td>\n",
       "      <td>18.7</td>\n",
       "      <td>181.0</td>\n",
       "      <td>3750.0</td>\n",
       "      <td>Male</td>\n",
       "      <td>1</td>\n",
       "    </tr>\n",
       "    <tr>\n",
       "      <th>1</th>\n",
       "      <td>Adelie</td>\n",
       "      <td>Torgersen</td>\n",
       "      <td>39.5</td>\n",
       "      <td>17.4</td>\n",
       "      <td>186.0</td>\n",
       "      <td>3800.0</td>\n",
       "      <td>Female</td>\n",
       "      <td>0</td>\n",
       "    </tr>\n",
       "    <tr>\n",
       "      <th>2</th>\n",
       "      <td>Adelie</td>\n",
       "      <td>Torgersen</td>\n",
       "      <td>40.3</td>\n",
       "      <td>18.0</td>\n",
       "      <td>195.0</td>\n",
       "      <td>3250.0</td>\n",
       "      <td>Female</td>\n",
       "      <td>0</td>\n",
       "    </tr>\n",
       "    <tr>\n",
       "      <th>3</th>\n",
       "      <td>Adelie</td>\n",
       "      <td>Torgersen</td>\n",
       "      <td>NaN</td>\n",
       "      <td>NaN</td>\n",
       "      <td>NaN</td>\n",
       "      <td>NaN</td>\n",
       "      <td>NaN</td>\n",
       "      <td>2</td>\n",
       "    </tr>\n",
       "    <tr>\n",
       "      <th>4</th>\n",
       "      <td>Adelie</td>\n",
       "      <td>Torgersen</td>\n",
       "      <td>36.7</td>\n",
       "      <td>19.3</td>\n",
       "      <td>193.0</td>\n",
       "      <td>3450.0</td>\n",
       "      <td>Female</td>\n",
       "      <td>0</td>\n",
       "    </tr>\n",
       "  </tbody>\n",
       "</table>\n",
       "</div>"
      ],
      "text/plain": [
       "  species     island  bill_length_mm  bill_depth_mm  flipper_length_mm  \\\n",
       "0  Adelie  Torgersen            39.1           18.7              181.0   \n",
       "1  Adelie  Torgersen            39.5           17.4              186.0   \n",
       "2  Adelie  Torgersen            40.3           18.0              195.0   \n",
       "3  Adelie  Torgersen             NaN            NaN                NaN   \n",
       "4  Adelie  Torgersen            36.7           19.3              193.0   \n",
       "\n",
       "   body_mass_g     sex  sex_encoded  \n",
       "0       3750.0    Male            1  \n",
       "1       3800.0  Female            0  \n",
       "2       3250.0  Female            0  \n",
       "3          NaN     NaN            2  \n",
       "4       3450.0  Female            0  "
      ]
     },
     "execution_count": 22,
     "metadata": {},
     "output_type": "execute_result"
    }
   ],
   "source": [
    "# Label encoder\n",
    "label_encoder = LabelEncoder()\n",
    "df_penguins['sex_encoded'] = label_encoder.fit_transform(\n",
    "    df_penguins['sex'])\n",
    "df_penguins.head()"
   ]
  },
  {
   "cell_type": "code",
   "execution_count": 48,
   "id": "48ee93dd",
   "metadata": {},
   "outputs": [],
   "source": [
    "# One-hot encoding\n",
    "one_hot_encoder = OneHotEncoder()\n",
    "island_encoded  = one_hot_encoder.fit_transform(df_penguins[['island']])\n",
    "island_encoded_df = pd.DataFrame(island_encoded.toarray(), columns=\n",
    "                                [f\"island_{i}\" for i in range(\n",
    "                                    island_encoded.shape[1])])\n",
    "df_penguins = pd.concat([df_penguins,island_encoded_df], axis=1)"
   ]
  },
  {
   "cell_type": "code",
   "execution_count": 23,
   "id": "34cf7025",
   "metadata": {},
   "outputs": [
    {
     "data": {
      "text/html": [
       "<div>\n",
       "<style scoped>\n",
       "    .dataframe tbody tr th:only-of-type {\n",
       "        vertical-align: middle;\n",
       "    }\n",
       "\n",
       "    .dataframe tbody tr th {\n",
       "        vertical-align: top;\n",
       "    }\n",
       "\n",
       "    .dataframe thead th {\n",
       "        text-align: right;\n",
       "    }\n",
       "</style>\n",
       "<table border=\"1\" class=\"dataframe\">\n",
       "  <thead>\n",
       "    <tr style=\"text-align: right;\">\n",
       "      <th></th>\n",
       "      <th>species</th>\n",
       "      <th>island</th>\n",
       "      <th>bill_length_mm</th>\n",
       "      <th>bill_depth_mm</th>\n",
       "      <th>flipper_length_mm</th>\n",
       "      <th>body_mass_g</th>\n",
       "      <th>sex</th>\n",
       "      <th>sex_encoded</th>\n",
       "    </tr>\n",
       "  </thead>\n",
       "  <tbody>\n",
       "    <tr>\n",
       "      <th>0</th>\n",
       "      <td>Adelie</td>\n",
       "      <td>Torgersen</td>\n",
       "      <td>39.1</td>\n",
       "      <td>18.7</td>\n",
       "      <td>181.0</td>\n",
       "      <td>3750.0</td>\n",
       "      <td>Male</td>\n",
       "      <td>1</td>\n",
       "    </tr>\n",
       "    <tr>\n",
       "      <th>1</th>\n",
       "      <td>Adelie</td>\n",
       "      <td>Torgersen</td>\n",
       "      <td>39.5</td>\n",
       "      <td>17.4</td>\n",
       "      <td>186.0</td>\n",
       "      <td>3800.0</td>\n",
       "      <td>Female</td>\n",
       "      <td>0</td>\n",
       "    </tr>\n",
       "    <tr>\n",
       "      <th>2</th>\n",
       "      <td>Adelie</td>\n",
       "      <td>Torgersen</td>\n",
       "      <td>40.3</td>\n",
       "      <td>18.0</td>\n",
       "      <td>195.0</td>\n",
       "      <td>3250.0</td>\n",
       "      <td>Female</td>\n",
       "      <td>0</td>\n",
       "    </tr>\n",
       "    <tr>\n",
       "      <th>3</th>\n",
       "      <td>Adelie</td>\n",
       "      <td>Torgersen</td>\n",
       "      <td>NaN</td>\n",
       "      <td>NaN</td>\n",
       "      <td>NaN</td>\n",
       "      <td>NaN</td>\n",
       "      <td>NaN</td>\n",
       "      <td>2</td>\n",
       "    </tr>\n",
       "    <tr>\n",
       "      <th>4</th>\n",
       "      <td>Adelie</td>\n",
       "      <td>Torgersen</td>\n",
       "      <td>36.7</td>\n",
       "      <td>19.3</td>\n",
       "      <td>193.0</td>\n",
       "      <td>3450.0</td>\n",
       "      <td>Female</td>\n",
       "      <td>0</td>\n",
       "    </tr>\n",
       "  </tbody>\n",
       "</table>\n",
       "</div>"
      ],
      "text/plain": [
       "  species     island  bill_length_mm  bill_depth_mm  flipper_length_mm  \\\n",
       "0  Adelie  Torgersen            39.1           18.7              181.0   \n",
       "1  Adelie  Torgersen            39.5           17.4              186.0   \n",
       "2  Adelie  Torgersen            40.3           18.0              195.0   \n",
       "3  Adelie  Torgersen             NaN            NaN                NaN   \n",
       "4  Adelie  Torgersen            36.7           19.3              193.0   \n",
       "\n",
       "   body_mass_g     sex  sex_encoded  \n",
       "0       3750.0    Male            1  \n",
       "1       3800.0  Female            0  \n",
       "2       3250.0  Female            0  \n",
       "3          NaN     NaN            2  \n",
       "4       3450.0  Female            0  "
      ]
     },
     "execution_count": 23,
     "metadata": {},
     "output_type": "execute_result"
    }
   ],
   "source": [
    "df_penguins.head()"
   ]
  },
  {
   "cell_type": "markdown",
   "id": "a39543f1",
   "metadata": {},
   "source": [
    "##  Data sampling and balancing\n",
    "\n",
    "When dealing with imbalanced datasets, where the number of samples for each class is different, data sampling and balancing techniques can be used to address this issue. Techniques include oversampling, undersampling, and synthetic sampling.\n",
    "\n",
    "**Oversampling**: This involves increasing the number of instances in the minority class(es) to match the number of instances in the majority class. This can be done by duplicating existing instances (simple oversampling) or by generating synthetic instances based on the existing ones (e.g., using techniques like SMOTE - Synthetic Minority Over-sampling Technique).\n",
    "\n",
    "**Undersampling**: This involves reducing the number of instances in the majority class(es) to match the number of instances in the minority class. It can be done by randomly removing instances from the majority class, but care must be taken to preserve the representativeness of the data.\n",
    "\n",
    "**Synthetic Sampling**: As mentioned earlier, techniques like SMOTE generate synthetic samples for the minority class based on the existing samples. This helps in balancing the dataset while introducing diversity in the data."
   ]
  },
  {
   "cell_type": "code",
   "execution_count": 52,
   "id": "7a3dc921",
   "metadata": {},
   "outputs": [
    {
     "data": {
      "text/plain": [
       "(455, 30)"
      ]
     },
     "execution_count": 52,
     "metadata": {},
     "output_type": "execute_result"
    }
   ],
   "source": [
    "X_train.shape"
   ]
  },
  {
   "cell_type": "code",
   "execution_count": 53,
   "id": "fb4836f0",
   "metadata": {},
   "outputs": [
    {
     "data": {
      "text/plain": [
       "357"
      ]
     },
     "execution_count": 53,
     "metadata": {},
     "output_type": "execute_result"
    }
   ],
   "source": [
    "len(y[y ==1 ])"
   ]
  },
  {
   "cell_type": "code",
   "execution_count": 54,
   "id": "f24325c5",
   "metadata": {},
   "outputs": [
    {
     "data": {
      "text/plain": [
       "212"
      ]
     },
     "execution_count": 54,
     "metadata": {},
     "output_type": "execute_result"
    }
   ],
   "source": [
    "len(y[y==0])"
   ]
  },
  {
   "cell_type": "code",
   "execution_count": 36,
   "id": "b4c0b5ce",
   "metadata": {},
   "outputs": [
    {
     "name": "stdout",
     "output_type": "stream",
     "text": [
      "Class distribution before sampling:\n",
      "target\n",
      "1    133\n",
      "0    109\n",
      "Name: count, dtype: int64\n",
      "Class distribution after upsampling:\n",
      "0    109\n",
      "1    109\n",
      "Name: count, dtype: int64\n",
      "Class distribution after downsampling:\n",
      "0    133\n",
      "1    133\n",
      "Name: count, dtype: int64\n"
     ]
    }
   ],
   "source": [
    "import pandas as pd\n",
    "from sklearn.utils import resample\n",
    "\n",
    "# Upsample the minority class using the resample() function\n",
    "X_train_minority = X_train[y_train == 1]\n",
    "X_train_majority = X_train[y_train == 0]\n",
    "X_train_minority_upsampled = resample(X_train_minority, replace=True, n_samples=X_train_majority.shape[0], random_state=42)\n",
    "\n",
    "# Convert the upsampled minority class to a DataFrame\n",
    "X_train_minority_upsampled = pd.DataFrame(X_train_minority_upsampled, columns=X_train.columns)\n",
    "\n",
    "# Concatenate the upsampled minority class with the majority class\n",
    "X_train_upsampled = pd.concat([X_train_majority, X_train_minority_upsampled])\n",
    "y_train_upsampled = pd.concat([pd.Series([0] * X_train_majority.shape[0]), pd.Series([1] * X_train_majority.shape[0])])\n",
    "\n",
    "# Downsample the majority class using the resample() function\n",
    "X_train_majority_downsampled = resample(X_train_majority, replace=True, n_samples=X_train_minority.shape[0], random_state=42)\n",
    "\n",
    "# Convert the downsampled majority class to a DataFrame\n",
    "X_train_majority_downsampled = pd.DataFrame(X_train_majority_downsampled, columns=X_train.columns)\n",
    "\n",
    "# Concatenate the downsampled majority class with the minority class\n",
    "X_train_downsampled = pd.concat([X_train_majority_downsampled, X_train_minority])\n",
    "y_train_downsampled = pd.concat([pd.Series([0] * X_train_majority_downsampled.shape[0]), pd.Series([1] * X_train_minority.shape[0])])\n",
    "\n",
    "# Print the class distribution before and after upsampling and downsampling\n",
    "print('Class distribution before sampling:')\n",
    "print(y_train.value_counts())\n",
    "\n",
    "print('Class distribution after upsampling:')\n",
    "print(y_train_upsampled.value_counts())\n",
    "\n",
    "print('Class distribution after downsampling:')\n",
    "print(y_train_downsampled.value_counts())\n"
   ]
  },
  {
   "cell_type": "code",
   "execution_count": null,
   "id": "a3eb71c2",
   "metadata": {},
   "outputs": [],
   "source": []
  },
  {
   "cell_type": "markdown",
   "id": "35869494",
   "metadata": {},
   "source": [
    "## 3. Data Transformation\n",
    "\n",
    "__Data transformation__ is the process of converting data from one format or structure to another, in order to make it more suitable for analysis or to meet the requirements of a specific task or analysis.\n",
    "\n",
    "Data transformation techniques can include __operations__ such as \n",
    "* filtering, \n",
    "* aggregation, \n",
    "* sorting, merging, * splitting, and \n",
    "* reshaping data. \n",
    "\n",
    "*These operations are used to manipulate data to make it easier to understand and analyze, or to prepare it for machine learning algorithms and predictive modeling.*\n",
    "\n",
    "Examples of data transformation techniques include \n",
    "* __converting data from wide to long format__, \n",
    "* __binning numerical data into discrete categories__, \n",
    "* __encoding categorical data using one-hot encoding or label encoding__, and \n",
    "* __creating new features by combining existing features__.\n",
    "\n",
    "Data transformation is a critical step in the data analysis process and can have a significant impact on the accuracy and reliability of the results. It is important to carefully consider the goals of the analysis and choose the appropriate data transformation techniques to achieve those goals.\n",
    "\n",
    "\n",
    "### EXample:\n",
    "In this example, we create a sample DataFrame with five columns ('Name', 'Age', 'Gender', 'Salary', and 'Department'). We then perform several common data transformations:\n",
    "\n",
    "* __Long format transformation__: We use the *__melt()__* method to convert the DataFrame from wide to long format, with 'Age' and 'Salary' as the metrics and 'Value' as the values.\n",
    "* __Binning transformation__: We use the *__cut()__* method to bin the 'Age' column into three discrete categories ('<30', '30-40', and '40+').\n",
    "* __Encoding transformation__: We use the *__get_dummies()__* method to create one-hot encoded columns for the 'Department' column.\n",
    "* __New feature transformation__: We use the *__assign()__* method to create two new columns based on the 'Salary' and 'Age' columns.\n",
    "\n",
    "The resulting transformed data includes the long format data, the binned data, the encoded data, and the data with new features.\n"
   ]
  },
  {
   "cell_type": "code",
   "execution_count": 45,
   "id": "d62d8d06",
   "metadata": {},
   "outputs": [
    {
     "name": "stdout",
     "output_type": "stream",
     "text": [
      "Long format data:\n",
      "      Name  Gender  Metric  Value\n",
      "0    Alice  Female     Age     25\n",
      "1      Bob    Male     Age     30\n",
      "2  Charlie    Male     Age     35\n",
      "3    David    Male     Age     40\n",
      "4     Emma  Female     Age     45\n",
      "5    Alice  Female  Salary  50000\n",
      "6      Bob    Male  Salary  60000\n",
      "7  Charlie    Male  Salary  70000\n",
      "8    David    Male  Salary  80000\n",
      "9     Emma  Female  Salary  90000\n",
      "\n",
      "Binned data:\n",
      "0      <30\n",
      "1      <30\n",
      "2    30-40\n",
      "3    30-40\n",
      "4      40+\n",
      "Name: Age, dtype: category\n",
      "Categories (3, object): ['<30' < '30-40' < '40+']\n",
      "\n",
      "Encoded data:\n",
      "   Dept_HR  Dept_IT  Dept_Sales\n",
      "0        1        0           0\n",
      "1        0        1           0\n",
      "2        0        1           0\n",
      "3        0        0           1\n",
      "4        0        0           1\n",
      "\n",
      "Data with new features:\n",
      "      Name  Age  Gender  Salary Department  Salary_Per_Year  Age_Squared\n",
      "0    Alice   25  Female   50000         HR      4166.666667          625\n",
      "1      Bob   30    Male   60000         IT      5000.000000          900\n",
      "2  Charlie   35    Male   70000         IT      5833.333333         1225\n",
      "3    David   40    Male   80000      Sales      6666.666667         1600\n",
      "4     Emma   45  Female   90000      Sales      7500.000000         2025\n"
     ]
    }
   ],
   "source": [
    "import pandas as pd\n",
    "\n",
    "# create a sample DataFrame\n",
    "df = pd.DataFrame({\n",
    "    'Name': ['Alice', 'Bob', 'Charlie', 'David', 'Emma'],\n",
    "    'Age': [25, 30, 35, 40, 45],\n",
    "    'Gender': ['Female', 'Male', 'Male', 'Male', 'Female'],\n",
    "    'Salary': [50000, 60000, 70000, 80000, 90000],\n",
    "    'Department': ['HR', 'IT', 'IT', 'Sales', 'Sales']\n",
    "})\n",
    "\n",
    "# transform the data\n",
    "df_long = df.melt(id_vars=['Name', 'Gender'], value_vars=['Age', 'Salary'], var_name='Metric', value_name='Value')\n",
    "df_binned = pd.cut(df['Age'], bins=[0, 30, 40, 50], labels=['<30', '30-40', '40+'])\n",
    "df_encoded = pd.get_dummies(df['Department'], prefix='Dept')\n",
    "df_new_features = df.assign(Salary_Per_Year=df['Salary'] / 12, Age_Squared=df['Age'] ** 2)\n",
    "\n",
    "# print the transformed data\n",
    "print(\"Long format data:\")\n",
    "print(df_long)\n",
    "print(\"\\nBinned data:\")\n",
    "print(df_binned)\n",
    "print(\"\\nEncoded data:\")\n",
    "print(df_encoded)\n",
    "print(\"\\nData with new features:\")\n",
    "print(df_new_features)\n"
   ]
  },
  {
   "cell_type": "code",
   "execution_count": null,
   "id": "31aaa191",
   "metadata": {},
   "outputs": [],
   "source": []
  }
 ],
 "metadata": {
  "kernelspec": {
   "display_name": "Python 3 (ipykernel)",
   "language": "python",
   "name": "python3"
  },
  "language_info": {
   "codemirror_mode": {
    "name": "ipython",
    "version": 3
   },
   "file_extension": ".py",
   "mimetype": "text/x-python",
   "name": "python",
   "nbconvert_exporter": "python",
   "pygments_lexer": "ipython3",
   "version": "3.11.5"
  }
 },
 "nbformat": 4,
 "nbformat_minor": 5
}
